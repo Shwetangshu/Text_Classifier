{
  "nbformat": 4,
  "nbformat_minor": 0,
  "metadata": {
    "colab": {
      "provenance": [],
      "gpuType": "T4"
    },
    "kernelspec": {
      "name": "python3",
      "display_name": "Python 3"
    },
    "language_info": {
      "name": "python"
    },
    "widgets": {
      "application/vnd.jupyter.widget-state+json": {
        "7505cf7602ed4d67bbe9964982951440": {
          "model_module": "@jupyter-widgets/controls",
          "model_name": "HBoxModel",
          "model_module_version": "1.5.0",
          "state": {
            "_dom_classes": [],
            "_model_module": "@jupyter-widgets/controls",
            "_model_module_version": "1.5.0",
            "_model_name": "HBoxModel",
            "_view_count": null,
            "_view_module": "@jupyter-widgets/controls",
            "_view_module_version": "1.5.0",
            "_view_name": "HBoxView",
            "box_style": "",
            "children": [
              "IPY_MODEL_55dc367a845842489612be5da8546af1",
              "IPY_MODEL_cc3c353d5fa445a78580b0f24fe8bdbb",
              "IPY_MODEL_227c99d5d9d345cb8dc26d6aba6811d3"
            ],
            "layout": "IPY_MODEL_4b46c5b39ca3458392fc4fb739541c0b"
          }
        },
        "55dc367a845842489612be5da8546af1": {
          "model_module": "@jupyter-widgets/controls",
          "model_name": "HTMLModel",
          "model_module_version": "1.5.0",
          "state": {
            "_dom_classes": [],
            "_model_module": "@jupyter-widgets/controls",
            "_model_module_version": "1.5.0",
            "_model_name": "HTMLModel",
            "_view_count": null,
            "_view_module": "@jupyter-widgets/controls",
            "_view_module_version": "1.5.0",
            "_view_name": "HTMLView",
            "description": "",
            "description_tooltip": null,
            "layout": "IPY_MODEL_4999be3f1879462ba9e547173d667077",
            "placeholder": "​",
            "style": "IPY_MODEL_7ee6d509dffe4c92b6f344126efa6cb9",
            "value": "Map: 100%"
          }
        },
        "cc3c353d5fa445a78580b0f24fe8bdbb": {
          "model_module": "@jupyter-widgets/controls",
          "model_name": "FloatProgressModel",
          "model_module_version": "1.5.0",
          "state": {
            "_dom_classes": [],
            "_model_module": "@jupyter-widgets/controls",
            "_model_module_version": "1.5.0",
            "_model_name": "FloatProgressModel",
            "_view_count": null,
            "_view_module": "@jupyter-widgets/controls",
            "_view_module_version": "1.5.0",
            "_view_name": "ProgressView",
            "bar_style": "success",
            "description": "",
            "description_tooltip": null,
            "layout": "IPY_MODEL_c66cbe745d204628a9df21a26f42dbb3",
            "max": 3036,
            "min": 0,
            "orientation": "horizontal",
            "style": "IPY_MODEL_382a85660086462986a74923a9394ea5",
            "value": 3036
          }
        },
        "227c99d5d9d345cb8dc26d6aba6811d3": {
          "model_module": "@jupyter-widgets/controls",
          "model_name": "HTMLModel",
          "model_module_version": "1.5.0",
          "state": {
            "_dom_classes": [],
            "_model_module": "@jupyter-widgets/controls",
            "_model_module_version": "1.5.0",
            "_model_name": "HTMLModel",
            "_view_count": null,
            "_view_module": "@jupyter-widgets/controls",
            "_view_module_version": "1.5.0",
            "_view_name": "HTMLView",
            "description": "",
            "description_tooltip": null,
            "layout": "IPY_MODEL_e0a25870e247425e94ce16090f4063f4",
            "placeholder": "​",
            "style": "IPY_MODEL_5b6e7cc54b9f48be9499565406668bfd",
            "value": " 3036/3036 [00:15&lt;00:00, 207.79 examples/s]"
          }
        },
        "4b46c5b39ca3458392fc4fb739541c0b": {
          "model_module": "@jupyter-widgets/base",
          "model_name": "LayoutModel",
          "model_module_version": "1.2.0",
          "state": {
            "_model_module": "@jupyter-widgets/base",
            "_model_module_version": "1.2.0",
            "_model_name": "LayoutModel",
            "_view_count": null,
            "_view_module": "@jupyter-widgets/base",
            "_view_module_version": "1.2.0",
            "_view_name": "LayoutView",
            "align_content": null,
            "align_items": null,
            "align_self": null,
            "border": null,
            "bottom": null,
            "display": null,
            "flex": null,
            "flex_flow": null,
            "grid_area": null,
            "grid_auto_columns": null,
            "grid_auto_flow": null,
            "grid_auto_rows": null,
            "grid_column": null,
            "grid_gap": null,
            "grid_row": null,
            "grid_template_areas": null,
            "grid_template_columns": null,
            "grid_template_rows": null,
            "height": null,
            "justify_content": null,
            "justify_items": null,
            "left": null,
            "margin": null,
            "max_height": null,
            "max_width": null,
            "min_height": null,
            "min_width": null,
            "object_fit": null,
            "object_position": null,
            "order": null,
            "overflow": null,
            "overflow_x": null,
            "overflow_y": null,
            "padding": null,
            "right": null,
            "top": null,
            "visibility": null,
            "width": null
          }
        },
        "4999be3f1879462ba9e547173d667077": {
          "model_module": "@jupyter-widgets/base",
          "model_name": "LayoutModel",
          "model_module_version": "1.2.0",
          "state": {
            "_model_module": "@jupyter-widgets/base",
            "_model_module_version": "1.2.0",
            "_model_name": "LayoutModel",
            "_view_count": null,
            "_view_module": "@jupyter-widgets/base",
            "_view_module_version": "1.2.0",
            "_view_name": "LayoutView",
            "align_content": null,
            "align_items": null,
            "align_self": null,
            "border": null,
            "bottom": null,
            "display": null,
            "flex": null,
            "flex_flow": null,
            "grid_area": null,
            "grid_auto_columns": null,
            "grid_auto_flow": null,
            "grid_auto_rows": null,
            "grid_column": null,
            "grid_gap": null,
            "grid_row": null,
            "grid_template_areas": null,
            "grid_template_columns": null,
            "grid_template_rows": null,
            "height": null,
            "justify_content": null,
            "justify_items": null,
            "left": null,
            "margin": null,
            "max_height": null,
            "max_width": null,
            "min_height": null,
            "min_width": null,
            "object_fit": null,
            "object_position": null,
            "order": null,
            "overflow": null,
            "overflow_x": null,
            "overflow_y": null,
            "padding": null,
            "right": null,
            "top": null,
            "visibility": null,
            "width": null
          }
        },
        "7ee6d509dffe4c92b6f344126efa6cb9": {
          "model_module": "@jupyter-widgets/controls",
          "model_name": "DescriptionStyleModel",
          "model_module_version": "1.5.0",
          "state": {
            "_model_module": "@jupyter-widgets/controls",
            "_model_module_version": "1.5.0",
            "_model_name": "DescriptionStyleModel",
            "_view_count": null,
            "_view_module": "@jupyter-widgets/base",
            "_view_module_version": "1.2.0",
            "_view_name": "StyleView",
            "description_width": ""
          }
        },
        "c66cbe745d204628a9df21a26f42dbb3": {
          "model_module": "@jupyter-widgets/base",
          "model_name": "LayoutModel",
          "model_module_version": "1.2.0",
          "state": {
            "_model_module": "@jupyter-widgets/base",
            "_model_module_version": "1.2.0",
            "_model_name": "LayoutModel",
            "_view_count": null,
            "_view_module": "@jupyter-widgets/base",
            "_view_module_version": "1.2.0",
            "_view_name": "LayoutView",
            "align_content": null,
            "align_items": null,
            "align_self": null,
            "border": null,
            "bottom": null,
            "display": null,
            "flex": null,
            "flex_flow": null,
            "grid_area": null,
            "grid_auto_columns": null,
            "grid_auto_flow": null,
            "grid_auto_rows": null,
            "grid_column": null,
            "grid_gap": null,
            "grid_row": null,
            "grid_template_areas": null,
            "grid_template_columns": null,
            "grid_template_rows": null,
            "height": null,
            "justify_content": null,
            "justify_items": null,
            "left": null,
            "margin": null,
            "max_height": null,
            "max_width": null,
            "min_height": null,
            "min_width": null,
            "object_fit": null,
            "object_position": null,
            "order": null,
            "overflow": null,
            "overflow_x": null,
            "overflow_y": null,
            "padding": null,
            "right": null,
            "top": null,
            "visibility": null,
            "width": null
          }
        },
        "382a85660086462986a74923a9394ea5": {
          "model_module": "@jupyter-widgets/controls",
          "model_name": "ProgressStyleModel",
          "model_module_version": "1.5.0",
          "state": {
            "_model_module": "@jupyter-widgets/controls",
            "_model_module_version": "1.5.0",
            "_model_name": "ProgressStyleModel",
            "_view_count": null,
            "_view_module": "@jupyter-widgets/base",
            "_view_module_version": "1.2.0",
            "_view_name": "StyleView",
            "bar_color": null,
            "description_width": ""
          }
        },
        "e0a25870e247425e94ce16090f4063f4": {
          "model_module": "@jupyter-widgets/base",
          "model_name": "LayoutModel",
          "model_module_version": "1.2.0",
          "state": {
            "_model_module": "@jupyter-widgets/base",
            "_model_module_version": "1.2.0",
            "_model_name": "LayoutModel",
            "_view_count": null,
            "_view_module": "@jupyter-widgets/base",
            "_view_module_version": "1.2.0",
            "_view_name": "LayoutView",
            "align_content": null,
            "align_items": null,
            "align_self": null,
            "border": null,
            "bottom": null,
            "display": null,
            "flex": null,
            "flex_flow": null,
            "grid_area": null,
            "grid_auto_columns": null,
            "grid_auto_flow": null,
            "grid_auto_rows": null,
            "grid_column": null,
            "grid_gap": null,
            "grid_row": null,
            "grid_template_areas": null,
            "grid_template_columns": null,
            "grid_template_rows": null,
            "height": null,
            "justify_content": null,
            "justify_items": null,
            "left": null,
            "margin": null,
            "max_height": null,
            "max_width": null,
            "min_height": null,
            "min_width": null,
            "object_fit": null,
            "object_position": null,
            "order": null,
            "overflow": null,
            "overflow_x": null,
            "overflow_y": null,
            "padding": null,
            "right": null,
            "top": null,
            "visibility": null,
            "width": null
          }
        },
        "5b6e7cc54b9f48be9499565406668bfd": {
          "model_module": "@jupyter-widgets/controls",
          "model_name": "DescriptionStyleModel",
          "model_module_version": "1.5.0",
          "state": {
            "_model_module": "@jupyter-widgets/controls",
            "_model_module_version": "1.5.0",
            "_model_name": "DescriptionStyleModel",
            "_view_count": null,
            "_view_module": "@jupyter-widgets/base",
            "_view_module_version": "1.2.0",
            "_view_name": "StyleView",
            "description_width": ""
          }
        },
        "52ca033805874f1ab88874ced4277fa0": {
          "model_module": "@jupyter-widgets/controls",
          "model_name": "HBoxModel",
          "model_module_version": "1.5.0",
          "state": {
            "_dom_classes": [],
            "_model_module": "@jupyter-widgets/controls",
            "_model_module_version": "1.5.0",
            "_model_name": "HBoxModel",
            "_view_count": null,
            "_view_module": "@jupyter-widgets/controls",
            "_view_module_version": "1.5.0",
            "_view_name": "HBoxView",
            "box_style": "",
            "children": [
              "IPY_MODEL_824c4673788448c9a5d9ba8828931ec9",
              "IPY_MODEL_1b4f225b4fe2457fb13aa960bb75dde5",
              "IPY_MODEL_84eeb56d212940a2990916b8b325788f"
            ],
            "layout": "IPY_MODEL_cb50c496435e4e33941ed982479ae7f4"
          }
        },
        "824c4673788448c9a5d9ba8828931ec9": {
          "model_module": "@jupyter-widgets/controls",
          "model_name": "HTMLModel",
          "model_module_version": "1.5.0",
          "state": {
            "_dom_classes": [],
            "_model_module": "@jupyter-widgets/controls",
            "_model_module_version": "1.5.0",
            "_model_name": "HTMLModel",
            "_view_count": null,
            "_view_module": "@jupyter-widgets/controls",
            "_view_module_version": "1.5.0",
            "_view_name": "HTMLView",
            "description": "",
            "description_tooltip": null,
            "layout": "IPY_MODEL_15dbf4892d784a91af19b5d8b8aefc31",
            "placeholder": "​",
            "style": "IPY_MODEL_c040e2227431431cb1435b004eee5e6f",
            "value": "Map: 100%"
          }
        },
        "1b4f225b4fe2457fb13aa960bb75dde5": {
          "model_module": "@jupyter-widgets/controls",
          "model_name": "FloatProgressModel",
          "model_module_version": "1.5.0",
          "state": {
            "_dom_classes": [],
            "_model_module": "@jupyter-widgets/controls",
            "_model_module_version": "1.5.0",
            "_model_name": "FloatProgressModel",
            "_view_count": null,
            "_view_module": "@jupyter-widgets/controls",
            "_view_module_version": "1.5.0",
            "_view_name": "ProgressView",
            "bar_style": "success",
            "description": "",
            "description_tooltip": null,
            "layout": "IPY_MODEL_294b1d52eb874f60afb3003557b94dd4",
            "max": 760,
            "min": 0,
            "orientation": "horizontal",
            "style": "IPY_MODEL_362910df92c04cf5a5f32c2c4c11977f",
            "value": 760
          }
        },
        "84eeb56d212940a2990916b8b325788f": {
          "model_module": "@jupyter-widgets/controls",
          "model_name": "HTMLModel",
          "model_module_version": "1.5.0",
          "state": {
            "_dom_classes": [],
            "_model_module": "@jupyter-widgets/controls",
            "_model_module_version": "1.5.0",
            "_model_name": "HTMLModel",
            "_view_count": null,
            "_view_module": "@jupyter-widgets/controls",
            "_view_module_version": "1.5.0",
            "_view_name": "HTMLView",
            "description": "",
            "description_tooltip": null,
            "layout": "IPY_MODEL_2493db568fb14ba6b75a484f2c086730",
            "placeholder": "​",
            "style": "IPY_MODEL_7e6d3d763e264837a99cc634f53d9bf8",
            "value": " 760/760 [00:03&lt;00:00, 222.30 examples/s]"
          }
        },
        "cb50c496435e4e33941ed982479ae7f4": {
          "model_module": "@jupyter-widgets/base",
          "model_name": "LayoutModel",
          "model_module_version": "1.2.0",
          "state": {
            "_model_module": "@jupyter-widgets/base",
            "_model_module_version": "1.2.0",
            "_model_name": "LayoutModel",
            "_view_count": null,
            "_view_module": "@jupyter-widgets/base",
            "_view_module_version": "1.2.0",
            "_view_name": "LayoutView",
            "align_content": null,
            "align_items": null,
            "align_self": null,
            "border": null,
            "bottom": null,
            "display": null,
            "flex": null,
            "flex_flow": null,
            "grid_area": null,
            "grid_auto_columns": null,
            "grid_auto_flow": null,
            "grid_auto_rows": null,
            "grid_column": null,
            "grid_gap": null,
            "grid_row": null,
            "grid_template_areas": null,
            "grid_template_columns": null,
            "grid_template_rows": null,
            "height": null,
            "justify_content": null,
            "justify_items": null,
            "left": null,
            "margin": null,
            "max_height": null,
            "max_width": null,
            "min_height": null,
            "min_width": null,
            "object_fit": null,
            "object_position": null,
            "order": null,
            "overflow": null,
            "overflow_x": null,
            "overflow_y": null,
            "padding": null,
            "right": null,
            "top": null,
            "visibility": null,
            "width": null
          }
        },
        "15dbf4892d784a91af19b5d8b8aefc31": {
          "model_module": "@jupyter-widgets/base",
          "model_name": "LayoutModel",
          "model_module_version": "1.2.0",
          "state": {
            "_model_module": "@jupyter-widgets/base",
            "_model_module_version": "1.2.0",
            "_model_name": "LayoutModel",
            "_view_count": null,
            "_view_module": "@jupyter-widgets/base",
            "_view_module_version": "1.2.0",
            "_view_name": "LayoutView",
            "align_content": null,
            "align_items": null,
            "align_self": null,
            "border": null,
            "bottom": null,
            "display": null,
            "flex": null,
            "flex_flow": null,
            "grid_area": null,
            "grid_auto_columns": null,
            "grid_auto_flow": null,
            "grid_auto_rows": null,
            "grid_column": null,
            "grid_gap": null,
            "grid_row": null,
            "grid_template_areas": null,
            "grid_template_columns": null,
            "grid_template_rows": null,
            "height": null,
            "justify_content": null,
            "justify_items": null,
            "left": null,
            "margin": null,
            "max_height": null,
            "max_width": null,
            "min_height": null,
            "min_width": null,
            "object_fit": null,
            "object_position": null,
            "order": null,
            "overflow": null,
            "overflow_x": null,
            "overflow_y": null,
            "padding": null,
            "right": null,
            "top": null,
            "visibility": null,
            "width": null
          }
        },
        "c040e2227431431cb1435b004eee5e6f": {
          "model_module": "@jupyter-widgets/controls",
          "model_name": "DescriptionStyleModel",
          "model_module_version": "1.5.0",
          "state": {
            "_model_module": "@jupyter-widgets/controls",
            "_model_module_version": "1.5.0",
            "_model_name": "DescriptionStyleModel",
            "_view_count": null,
            "_view_module": "@jupyter-widgets/base",
            "_view_module_version": "1.2.0",
            "_view_name": "StyleView",
            "description_width": ""
          }
        },
        "294b1d52eb874f60afb3003557b94dd4": {
          "model_module": "@jupyter-widgets/base",
          "model_name": "LayoutModel",
          "model_module_version": "1.2.0",
          "state": {
            "_model_module": "@jupyter-widgets/base",
            "_model_module_version": "1.2.0",
            "_model_name": "LayoutModel",
            "_view_count": null,
            "_view_module": "@jupyter-widgets/base",
            "_view_module_version": "1.2.0",
            "_view_name": "LayoutView",
            "align_content": null,
            "align_items": null,
            "align_self": null,
            "border": null,
            "bottom": null,
            "display": null,
            "flex": null,
            "flex_flow": null,
            "grid_area": null,
            "grid_auto_columns": null,
            "grid_auto_flow": null,
            "grid_auto_rows": null,
            "grid_column": null,
            "grid_gap": null,
            "grid_row": null,
            "grid_template_areas": null,
            "grid_template_columns": null,
            "grid_template_rows": null,
            "height": null,
            "justify_content": null,
            "justify_items": null,
            "left": null,
            "margin": null,
            "max_height": null,
            "max_width": null,
            "min_height": null,
            "min_width": null,
            "object_fit": null,
            "object_position": null,
            "order": null,
            "overflow": null,
            "overflow_x": null,
            "overflow_y": null,
            "padding": null,
            "right": null,
            "top": null,
            "visibility": null,
            "width": null
          }
        },
        "362910df92c04cf5a5f32c2c4c11977f": {
          "model_module": "@jupyter-widgets/controls",
          "model_name": "ProgressStyleModel",
          "model_module_version": "1.5.0",
          "state": {
            "_model_module": "@jupyter-widgets/controls",
            "_model_module_version": "1.5.0",
            "_model_name": "ProgressStyleModel",
            "_view_count": null,
            "_view_module": "@jupyter-widgets/base",
            "_view_module_version": "1.2.0",
            "_view_name": "StyleView",
            "bar_color": null,
            "description_width": ""
          }
        },
        "2493db568fb14ba6b75a484f2c086730": {
          "model_module": "@jupyter-widgets/base",
          "model_name": "LayoutModel",
          "model_module_version": "1.2.0",
          "state": {
            "_model_module": "@jupyter-widgets/base",
            "_model_module_version": "1.2.0",
            "_model_name": "LayoutModel",
            "_view_count": null,
            "_view_module": "@jupyter-widgets/base",
            "_view_module_version": "1.2.0",
            "_view_name": "LayoutView",
            "align_content": null,
            "align_items": null,
            "align_self": null,
            "border": null,
            "bottom": null,
            "display": null,
            "flex": null,
            "flex_flow": null,
            "grid_area": null,
            "grid_auto_columns": null,
            "grid_auto_flow": null,
            "grid_auto_rows": null,
            "grid_column": null,
            "grid_gap": null,
            "grid_row": null,
            "grid_template_areas": null,
            "grid_template_columns": null,
            "grid_template_rows": null,
            "height": null,
            "justify_content": null,
            "justify_items": null,
            "left": null,
            "margin": null,
            "max_height": null,
            "max_width": null,
            "min_height": null,
            "min_width": null,
            "object_fit": null,
            "object_position": null,
            "order": null,
            "overflow": null,
            "overflow_x": null,
            "overflow_y": null,
            "padding": null,
            "right": null,
            "top": null,
            "visibility": null,
            "width": null
          }
        },
        "7e6d3d763e264837a99cc634f53d9bf8": {
          "model_module": "@jupyter-widgets/controls",
          "model_name": "DescriptionStyleModel",
          "model_module_version": "1.5.0",
          "state": {
            "_model_module": "@jupyter-widgets/controls",
            "_model_module_version": "1.5.0",
            "_model_name": "DescriptionStyleModel",
            "_view_count": null,
            "_view_module": "@jupyter-widgets/base",
            "_view_module_version": "1.2.0",
            "_view_name": "StyleView",
            "description_width": ""
          }
        }
      }
    },
    "accelerator": "GPU"
  },
  "cells": [
    {
      "cell_type": "markdown",
      "source": [
        "# 1. Install requirements"
      ],
      "metadata": {
        "id": "u0qfi0nidPcW"
      }
    },
    {
      "cell_type": "code",
      "execution_count": 1,
      "metadata": {
        "colab": {
          "base_uri": "https://localhost:8080/"
        },
        "id": "HOluzVpD1iw_",
        "outputId": "a3ab5001-ff07-4174-bab3-91a24d90f87c"
      },
      "outputs": [
        {
          "output_type": "stream",
          "name": "stdout",
          "text": [
            "Requirement already satisfied: transformers in /usr/local/lib/python3.10/dist-packages (4.38.2)\n",
            "Requirement already satisfied: filelock in /usr/local/lib/python3.10/dist-packages (from transformers) (3.13.4)\n",
            "Requirement already satisfied: huggingface-hub<1.0,>=0.19.3 in /usr/local/lib/python3.10/dist-packages (from transformers) (0.22.2)\n",
            "Requirement already satisfied: numpy>=1.17 in /usr/local/lib/python3.10/dist-packages (from transformers) (1.25.2)\n",
            "Requirement already satisfied: packaging>=20.0 in /usr/local/lib/python3.10/dist-packages (from transformers) (24.0)\n",
            "Requirement already satisfied: pyyaml>=5.1 in /usr/local/lib/python3.10/dist-packages (from transformers) (6.0.1)\n",
            "Requirement already satisfied: regex!=2019.12.17 in /usr/local/lib/python3.10/dist-packages (from transformers) (2023.12.25)\n",
            "Requirement already satisfied: requests in /usr/local/lib/python3.10/dist-packages (from transformers) (2.31.0)\n",
            "Requirement already satisfied: tokenizers<0.19,>=0.14 in /usr/local/lib/python3.10/dist-packages (from transformers) (0.15.2)\n",
            "Requirement already satisfied: safetensors>=0.4.1 in /usr/local/lib/python3.10/dist-packages (from transformers) (0.4.3)\n",
            "Requirement already satisfied: tqdm>=4.27 in /usr/local/lib/python3.10/dist-packages (from transformers) (4.66.2)\n",
            "Requirement already satisfied: fsspec>=2023.5.0 in /usr/local/lib/python3.10/dist-packages (from huggingface-hub<1.0,>=0.19.3->transformers) (2023.6.0)\n",
            "Requirement already satisfied: typing-extensions>=3.7.4.3 in /usr/local/lib/python3.10/dist-packages (from huggingface-hub<1.0,>=0.19.3->transformers) (4.11.0)\n",
            "Requirement already satisfied: charset-normalizer<4,>=2 in /usr/local/lib/python3.10/dist-packages (from requests->transformers) (3.3.2)\n",
            "Requirement already satisfied: idna<4,>=2.5 in /usr/local/lib/python3.10/dist-packages (from requests->transformers) (3.7)\n",
            "Requirement already satisfied: urllib3<3,>=1.21.1 in /usr/local/lib/python3.10/dist-packages (from requests->transformers) (2.0.7)\n",
            "Requirement already satisfied: certifi>=2017.4.17 in /usr/local/lib/python3.10/dist-packages (from requests->transformers) (2024.2.2)\n"
          ]
        }
      ],
      "source": [
        "!pip install transformers"
      ]
    },
    {
      "cell_type": "code",
      "source": [
        "!pip install datasets"
      ],
      "metadata": {
        "colab": {
          "base_uri": "https://localhost:8080/"
        },
        "id": "kv_H_SUrddGq",
        "outputId": "80c92253-60d7-41c4-99de-11962f88280e"
      },
      "execution_count": 2,
      "outputs": [
        {
          "output_type": "stream",
          "name": "stdout",
          "text": [
            "Requirement already satisfied: datasets in /usr/local/lib/python3.10/dist-packages (2.19.0)\n",
            "Requirement already satisfied: filelock in /usr/local/lib/python3.10/dist-packages (from datasets) (3.13.4)\n",
            "Requirement already satisfied: numpy>=1.17 in /usr/local/lib/python3.10/dist-packages (from datasets) (1.25.2)\n",
            "Requirement already satisfied: pyarrow>=12.0.0 in /usr/local/lib/python3.10/dist-packages (from datasets) (14.0.2)\n",
            "Requirement already satisfied: pyarrow-hotfix in /usr/local/lib/python3.10/dist-packages (from datasets) (0.6)\n",
            "Requirement already satisfied: dill<0.3.9,>=0.3.0 in /usr/local/lib/python3.10/dist-packages (from datasets) (0.3.8)\n",
            "Requirement already satisfied: pandas in /usr/local/lib/python3.10/dist-packages (from datasets) (2.2.2)\n",
            "Requirement already satisfied: requests>=2.19.0 in /usr/local/lib/python3.10/dist-packages (from datasets) (2.31.0)\n",
            "Requirement already satisfied: tqdm>=4.62.1 in /usr/local/lib/python3.10/dist-packages (from datasets) (4.66.2)\n",
            "Requirement already satisfied: xxhash in /usr/local/lib/python3.10/dist-packages (from datasets) (3.4.1)\n",
            "Requirement already satisfied: multiprocess in /usr/local/lib/python3.10/dist-packages (from datasets) (0.70.16)\n",
            "Requirement already satisfied: fsspec[http]<=2024.3.1,>=2023.1.0 in /usr/local/lib/python3.10/dist-packages (from datasets) (2023.6.0)\n",
            "Requirement already satisfied: aiohttp in /usr/local/lib/python3.10/dist-packages (from datasets) (3.9.5)\n",
            "Requirement already satisfied: huggingface-hub>=0.21.2 in /usr/local/lib/python3.10/dist-packages (from datasets) (0.22.2)\n",
            "Requirement already satisfied: packaging in /usr/local/lib/python3.10/dist-packages (from datasets) (24.0)\n",
            "Requirement already satisfied: pyyaml>=5.1 in /usr/local/lib/python3.10/dist-packages (from datasets) (6.0.1)\n",
            "Requirement already satisfied: aiosignal>=1.1.2 in /usr/local/lib/python3.10/dist-packages (from aiohttp->datasets) (1.3.1)\n",
            "Requirement already satisfied: attrs>=17.3.0 in /usr/local/lib/python3.10/dist-packages (from aiohttp->datasets) (23.2.0)\n",
            "Requirement already satisfied: frozenlist>=1.1.1 in /usr/local/lib/python3.10/dist-packages (from aiohttp->datasets) (1.4.1)\n",
            "Requirement already satisfied: multidict<7.0,>=4.5 in /usr/local/lib/python3.10/dist-packages (from aiohttp->datasets) (6.0.5)\n",
            "Requirement already satisfied: yarl<2.0,>=1.0 in /usr/local/lib/python3.10/dist-packages (from aiohttp->datasets) (1.9.4)\n",
            "Requirement already satisfied: async-timeout<5.0,>=4.0 in /usr/local/lib/python3.10/dist-packages (from aiohttp->datasets) (4.0.3)\n",
            "Requirement already satisfied: typing-extensions>=3.7.4.3 in /usr/local/lib/python3.10/dist-packages (from huggingface-hub>=0.21.2->datasets) (4.11.0)\n",
            "Requirement already satisfied: charset-normalizer<4,>=2 in /usr/local/lib/python3.10/dist-packages (from requests>=2.19.0->datasets) (3.3.2)\n",
            "Requirement already satisfied: idna<4,>=2.5 in /usr/local/lib/python3.10/dist-packages (from requests>=2.19.0->datasets) (3.7)\n",
            "Requirement already satisfied: urllib3<3,>=1.21.1 in /usr/local/lib/python3.10/dist-packages (from requests>=2.19.0->datasets) (2.0.7)\n",
            "Requirement already satisfied: certifi>=2017.4.17 in /usr/local/lib/python3.10/dist-packages (from requests>=2.19.0->datasets) (2024.2.2)\n",
            "Requirement already satisfied: python-dateutil>=2.8.2 in /usr/local/lib/python3.10/dist-packages (from pandas->datasets) (2.8.2)\n",
            "Requirement already satisfied: pytz>=2020.1 in /usr/local/lib/python3.10/dist-packages (from pandas->datasets) (2023.4)\n",
            "Requirement already satisfied: tzdata>=2022.7 in /usr/local/lib/python3.10/dist-packages (from pandas->datasets) (2024.1)\n",
            "Requirement already satisfied: six>=1.5 in /usr/local/lib/python3.10/dist-packages (from python-dateutil>=2.8.2->pandas->datasets) (1.16.0)\n"
          ]
        }
      ]
    },
    {
      "cell_type": "code",
      "source": [
        "!pip install --upgrade pandas"
      ],
      "metadata": {
        "id": "chYDigs_TQyA",
        "outputId": "4b67e440-27ee-41f8-ab9f-98942c46636a",
        "colab": {
          "base_uri": "https://localhost:8080/"
        }
      },
      "execution_count": 3,
      "outputs": [
        {
          "output_type": "stream",
          "name": "stdout",
          "text": [
            "Requirement already satisfied: pandas in /usr/local/lib/python3.10/dist-packages (2.2.2)\n",
            "Requirement already satisfied: numpy>=1.22.4 in /usr/local/lib/python3.10/dist-packages (from pandas) (1.25.2)\n",
            "Requirement already satisfied: python-dateutil>=2.8.2 in /usr/local/lib/python3.10/dist-packages (from pandas) (2.8.2)\n",
            "Requirement already satisfied: pytz>=2020.1 in /usr/local/lib/python3.10/dist-packages (from pandas) (2023.4)\n",
            "Requirement already satisfied: tzdata>=2022.7 in /usr/local/lib/python3.10/dist-packages (from pandas) (2024.1)\n",
            "Requirement already satisfied: six>=1.5 in /usr/local/lib/python3.10/dist-packages (from python-dateutil>=2.8.2->pandas) (1.16.0)\n"
          ]
        }
      ]
    },
    {
      "cell_type": "code",
      "source": [
        "! pip install evaluate"
      ],
      "metadata": {
        "id": "3SwqGs-sdSpf",
        "colab": {
          "base_uri": "https://localhost:8080/"
        },
        "outputId": "51fdf985-1f83-478b-d055-492186d2109b"
      },
      "execution_count": 4,
      "outputs": [
        {
          "output_type": "stream",
          "name": "stdout",
          "text": [
            "Requirement already satisfied: evaluate in /usr/local/lib/python3.10/dist-packages (0.4.1)\n",
            "Requirement already satisfied: datasets>=2.0.0 in /usr/local/lib/python3.10/dist-packages (from evaluate) (2.19.0)\n",
            "Requirement already satisfied: numpy>=1.17 in /usr/local/lib/python3.10/dist-packages (from evaluate) (1.25.2)\n",
            "Requirement already satisfied: dill in /usr/local/lib/python3.10/dist-packages (from evaluate) (0.3.8)\n",
            "Requirement already satisfied: pandas in /usr/local/lib/python3.10/dist-packages (from evaluate) (2.2.2)\n",
            "Requirement already satisfied: requests>=2.19.0 in /usr/local/lib/python3.10/dist-packages (from evaluate) (2.31.0)\n",
            "Requirement already satisfied: tqdm>=4.62.1 in /usr/local/lib/python3.10/dist-packages (from evaluate) (4.66.2)\n",
            "Requirement already satisfied: xxhash in /usr/local/lib/python3.10/dist-packages (from evaluate) (3.4.1)\n",
            "Requirement already satisfied: multiprocess in /usr/local/lib/python3.10/dist-packages (from evaluate) (0.70.16)\n",
            "Requirement already satisfied: fsspec[http]>=2021.05.0 in /usr/local/lib/python3.10/dist-packages (from evaluate) (2023.6.0)\n",
            "Requirement already satisfied: huggingface-hub>=0.7.0 in /usr/local/lib/python3.10/dist-packages (from evaluate) (0.22.2)\n",
            "Requirement already satisfied: packaging in /usr/local/lib/python3.10/dist-packages (from evaluate) (24.0)\n",
            "Requirement already satisfied: responses<0.19 in /usr/local/lib/python3.10/dist-packages (from evaluate) (0.18.0)\n",
            "Requirement already satisfied: filelock in /usr/local/lib/python3.10/dist-packages (from datasets>=2.0.0->evaluate) (3.13.4)\n",
            "Requirement already satisfied: pyarrow>=12.0.0 in /usr/local/lib/python3.10/dist-packages (from datasets>=2.0.0->evaluate) (14.0.2)\n",
            "Requirement already satisfied: pyarrow-hotfix in /usr/local/lib/python3.10/dist-packages (from datasets>=2.0.0->evaluate) (0.6)\n",
            "Requirement already satisfied: aiohttp in /usr/local/lib/python3.10/dist-packages (from datasets>=2.0.0->evaluate) (3.9.5)\n",
            "Requirement already satisfied: pyyaml>=5.1 in /usr/local/lib/python3.10/dist-packages (from datasets>=2.0.0->evaluate) (6.0.1)\n",
            "Requirement already satisfied: typing-extensions>=3.7.4.3 in /usr/local/lib/python3.10/dist-packages (from huggingface-hub>=0.7.0->evaluate) (4.11.0)\n",
            "Requirement already satisfied: charset-normalizer<4,>=2 in /usr/local/lib/python3.10/dist-packages (from requests>=2.19.0->evaluate) (3.3.2)\n",
            "Requirement already satisfied: idna<4,>=2.5 in /usr/local/lib/python3.10/dist-packages (from requests>=2.19.0->evaluate) (3.7)\n",
            "Requirement already satisfied: urllib3<3,>=1.21.1 in /usr/local/lib/python3.10/dist-packages (from requests>=2.19.0->evaluate) (2.0.7)\n",
            "Requirement already satisfied: certifi>=2017.4.17 in /usr/local/lib/python3.10/dist-packages (from requests>=2.19.0->evaluate) (2024.2.2)\n",
            "Requirement already satisfied: python-dateutil>=2.8.2 in /usr/local/lib/python3.10/dist-packages (from pandas->evaluate) (2.8.2)\n",
            "Requirement already satisfied: pytz>=2020.1 in /usr/local/lib/python3.10/dist-packages (from pandas->evaluate) (2023.4)\n",
            "Requirement already satisfied: tzdata>=2022.7 in /usr/local/lib/python3.10/dist-packages (from pandas->evaluate) (2024.1)\n",
            "Requirement already satisfied: aiosignal>=1.1.2 in /usr/local/lib/python3.10/dist-packages (from aiohttp->datasets>=2.0.0->evaluate) (1.3.1)\n",
            "Requirement already satisfied: attrs>=17.3.0 in /usr/local/lib/python3.10/dist-packages (from aiohttp->datasets>=2.0.0->evaluate) (23.2.0)\n",
            "Requirement already satisfied: frozenlist>=1.1.1 in /usr/local/lib/python3.10/dist-packages (from aiohttp->datasets>=2.0.0->evaluate) (1.4.1)\n",
            "Requirement already satisfied: multidict<7.0,>=4.5 in /usr/local/lib/python3.10/dist-packages (from aiohttp->datasets>=2.0.0->evaluate) (6.0.5)\n",
            "Requirement already satisfied: yarl<2.0,>=1.0 in /usr/local/lib/python3.10/dist-packages (from aiohttp->datasets>=2.0.0->evaluate) (1.9.4)\n",
            "Requirement already satisfied: async-timeout<5.0,>=4.0 in /usr/local/lib/python3.10/dist-packages (from aiohttp->datasets>=2.0.0->evaluate) (4.0.3)\n",
            "Requirement already satisfied: six>=1.5 in /usr/local/lib/python3.10/dist-packages (from python-dateutil>=2.8.2->pandas->evaluate) (1.16.0)\n"
          ]
        }
      ]
    },
    {
      "cell_type": "markdown",
      "source": [
        "#Configs"
      ],
      "metadata": {
        "id": "9_VzZB8_hPL4"
      }
    },
    {
      "cell_type": "code",
      "source": [
        "from google.colab import drive\n",
        "drive.mount('/content/drive')\n",
        "data_path = \"/content/drive/My Drive/dataset.csv\" #@param {type:\"string\"}\n",
        "text_column_name = \"email\" #@param {type:\"string\"}\n",
        "label_column_name = \"category\" #@param {type:\"string\"}\n",
        "\n",
        "model_name = \"distilbert-base-uncased\" #@param {type:\"string\"}\n",
        "test_size = 0.2 #@param {type:\"number\"}\n",
        "num_labels = 2 #@param {type:\"number\"}"
      ],
      "metadata": {
        "id": "rNU-0goehOtm",
        "outputId": "2158d81e-1e68-431d-c8e5-4ab1eb091068",
        "colab": {
          "base_uri": "https://localhost:8080/"
        }
      },
      "execution_count": 5,
      "outputs": [
        {
          "output_type": "stream",
          "name": "stdout",
          "text": [
            "Drive already mounted at /content/drive; to attempt to forcibly remount, call drive.mount(\"/content/drive\", force_remount=True).\n"
          ]
        }
      ]
    },
    {
      "cell_type": "code",
      "source": [],
      "metadata": {
        "id": "St-g9ZYH2ar7"
      },
      "execution_count": 5,
      "outputs": []
    },
    {
      "cell_type": "markdown",
      "source": [
        "# 2. Read and Prepare the Dataset"
      ],
      "metadata": {
        "id": "OK6fvr6rFdQf"
      }
    },
    {
      "cell_type": "code",
      "source": [
        "import pandas as pd"
      ],
      "metadata": {
        "id": "XY5zlDmZtPtS"
      },
      "execution_count": 6,
      "outputs": []
    },
    {
      "cell_type": "code",
      "source": [
        "df = pd.read_csv(data_path)"
      ],
      "metadata": {
        "id": "kdpGJIfQDEX5"
      },
      "execution_count": 7,
      "outputs": []
    },
    {
      "cell_type": "code",
      "source": [
        "df.head()"
      ],
      "metadata": {
        "id": "kVmAn6vSFg-v",
        "colab": {
          "base_uri": "https://localhost:8080/",
          "height": 206
        },
        "outputId": "b7904c16-1571-4175-dce5-be0c1cc945e8"
      },
      "execution_count": 8,
      "outputs": [
        {
          "output_type": "execute_result",
          "data": {
            "text/plain": [
              "                                               email  category\n",
              "0  URL: http://www.newsisfree.com/click/-1,817167...  not-spam\n",
              "1  On Thu, 19 Sep 2002, Bill Stoddard wrote:\\n\\n-...  not-spam\n",
              "2  Dan Kohn <dan@dankohn.com> writes:\\n\\n\\n\\n> Gu...  not-spam\n",
              "3  wintermute wrote:\\n\\n>>Anyone know where in Ir...  not-spam\n",
              "4  I attended the same conference, and was impres...  not-spam"
            ],
            "text/html": [
              "\n",
              "  <div id=\"df-78b42bd5-2554-49d0-bb80-2afc35a656da\" class=\"colab-df-container\">\n",
              "    <div>\n",
              "<style scoped>\n",
              "    .dataframe tbody tr th:only-of-type {\n",
              "        vertical-align: middle;\n",
              "    }\n",
              "\n",
              "    .dataframe tbody tr th {\n",
              "        vertical-align: top;\n",
              "    }\n",
              "\n",
              "    .dataframe thead th {\n",
              "        text-align: right;\n",
              "    }\n",
              "</style>\n",
              "<table border=\"1\" class=\"dataframe\">\n",
              "  <thead>\n",
              "    <tr style=\"text-align: right;\">\n",
              "      <th></th>\n",
              "      <th>email</th>\n",
              "      <th>category</th>\n",
              "    </tr>\n",
              "  </thead>\n",
              "  <tbody>\n",
              "    <tr>\n",
              "      <th>0</th>\n",
              "      <td>URL: http://www.newsisfree.com/click/-1,817167...</td>\n",
              "      <td>not-spam</td>\n",
              "    </tr>\n",
              "    <tr>\n",
              "      <th>1</th>\n",
              "      <td>On Thu, 19 Sep 2002, Bill Stoddard wrote:\\n\\n-...</td>\n",
              "      <td>not-spam</td>\n",
              "    </tr>\n",
              "    <tr>\n",
              "      <th>2</th>\n",
              "      <td>Dan Kohn &lt;dan@dankohn.com&gt; writes:\\n\\n\\n\\n&gt; Gu...</td>\n",
              "      <td>not-spam</td>\n",
              "    </tr>\n",
              "    <tr>\n",
              "      <th>3</th>\n",
              "      <td>wintermute wrote:\\n\\n&gt;&gt;Anyone know where in Ir...</td>\n",
              "      <td>not-spam</td>\n",
              "    </tr>\n",
              "    <tr>\n",
              "      <th>4</th>\n",
              "      <td>I attended the same conference, and was impres...</td>\n",
              "      <td>not-spam</td>\n",
              "    </tr>\n",
              "  </tbody>\n",
              "</table>\n",
              "</div>\n",
              "    <div class=\"colab-df-buttons\">\n",
              "\n",
              "  <div class=\"colab-df-container\">\n",
              "    <button class=\"colab-df-convert\" onclick=\"convertToInteractive('df-78b42bd5-2554-49d0-bb80-2afc35a656da')\"\n",
              "            title=\"Convert this dataframe to an interactive table.\"\n",
              "            style=\"display:none;\">\n",
              "\n",
              "  <svg xmlns=\"http://www.w3.org/2000/svg\" height=\"24px\" viewBox=\"0 -960 960 960\">\n",
              "    <path d=\"M120-120v-720h720v720H120Zm60-500h600v-160H180v160Zm220 220h160v-160H400v160Zm0 220h160v-160H400v160ZM180-400h160v-160H180v160Zm440 0h160v-160H620v160ZM180-180h160v-160H180v160Zm440 0h160v-160H620v160Z\"/>\n",
              "  </svg>\n",
              "    </button>\n",
              "\n",
              "  <style>\n",
              "    .colab-df-container {\n",
              "      display:flex;\n",
              "      gap: 12px;\n",
              "    }\n",
              "\n",
              "    .colab-df-convert {\n",
              "      background-color: #E8F0FE;\n",
              "      border: none;\n",
              "      border-radius: 50%;\n",
              "      cursor: pointer;\n",
              "      display: none;\n",
              "      fill: #1967D2;\n",
              "      height: 32px;\n",
              "      padding: 0 0 0 0;\n",
              "      width: 32px;\n",
              "    }\n",
              "\n",
              "    .colab-df-convert:hover {\n",
              "      background-color: #E2EBFA;\n",
              "      box-shadow: 0px 1px 2px rgba(60, 64, 67, 0.3), 0px 1px 3px 1px rgba(60, 64, 67, 0.15);\n",
              "      fill: #174EA6;\n",
              "    }\n",
              "\n",
              "    .colab-df-buttons div {\n",
              "      margin-bottom: 4px;\n",
              "    }\n",
              "\n",
              "    [theme=dark] .colab-df-convert {\n",
              "      background-color: #3B4455;\n",
              "      fill: #D2E3FC;\n",
              "    }\n",
              "\n",
              "    [theme=dark] .colab-df-convert:hover {\n",
              "      background-color: #434B5C;\n",
              "      box-shadow: 0px 1px 3px 1px rgba(0, 0, 0, 0.15);\n",
              "      filter: drop-shadow(0px 1px 2px rgba(0, 0, 0, 0.3));\n",
              "      fill: #FFFFFF;\n",
              "    }\n",
              "  </style>\n",
              "\n",
              "    <script>\n",
              "      const buttonEl =\n",
              "        document.querySelector('#df-78b42bd5-2554-49d0-bb80-2afc35a656da button.colab-df-convert');\n",
              "      buttonEl.style.display =\n",
              "        google.colab.kernel.accessAllowed ? 'block' : 'none';\n",
              "\n",
              "      async function convertToInteractive(key) {\n",
              "        const element = document.querySelector('#df-78b42bd5-2554-49d0-bb80-2afc35a656da');\n",
              "        const dataTable =\n",
              "          await google.colab.kernel.invokeFunction('convertToInteractive',\n",
              "                                                    [key], {});\n",
              "        if (!dataTable) return;\n",
              "\n",
              "        const docLinkHtml = 'Like what you see? Visit the ' +\n",
              "          '<a target=\"_blank\" href=https://colab.research.google.com/notebooks/data_table.ipynb>data table notebook</a>'\n",
              "          + ' to learn more about interactive tables.';\n",
              "        element.innerHTML = '';\n",
              "        dataTable['output_type'] = 'display_data';\n",
              "        await google.colab.output.renderOutput(dataTable, element);\n",
              "        const docLink = document.createElement('div');\n",
              "        docLink.innerHTML = docLinkHtml;\n",
              "        element.appendChild(docLink);\n",
              "      }\n",
              "    </script>\n",
              "  </div>\n",
              "\n",
              "\n",
              "<div id=\"df-ce506001-3c4b-4ddb-847f-0c42c6524f71\">\n",
              "  <button class=\"colab-df-quickchart\" onclick=\"quickchart('df-ce506001-3c4b-4ddb-847f-0c42c6524f71')\"\n",
              "            title=\"Suggest charts\"\n",
              "            style=\"display:none;\">\n",
              "\n",
              "<svg xmlns=\"http://www.w3.org/2000/svg\" height=\"24px\"viewBox=\"0 0 24 24\"\n",
              "     width=\"24px\">\n",
              "    <g>\n",
              "        <path d=\"M19 3H5c-1.1 0-2 .9-2 2v14c0 1.1.9 2 2 2h14c1.1 0 2-.9 2-2V5c0-1.1-.9-2-2-2zM9 17H7v-7h2v7zm4 0h-2V7h2v10zm4 0h-2v-4h2v4z\"/>\n",
              "    </g>\n",
              "</svg>\n",
              "  </button>\n",
              "\n",
              "<style>\n",
              "  .colab-df-quickchart {\n",
              "      --bg-color: #E8F0FE;\n",
              "      --fill-color: #1967D2;\n",
              "      --hover-bg-color: #E2EBFA;\n",
              "      --hover-fill-color: #174EA6;\n",
              "      --disabled-fill-color: #AAA;\n",
              "      --disabled-bg-color: #DDD;\n",
              "  }\n",
              "\n",
              "  [theme=dark] .colab-df-quickchart {\n",
              "      --bg-color: #3B4455;\n",
              "      --fill-color: #D2E3FC;\n",
              "      --hover-bg-color: #434B5C;\n",
              "      --hover-fill-color: #FFFFFF;\n",
              "      --disabled-bg-color: #3B4455;\n",
              "      --disabled-fill-color: #666;\n",
              "  }\n",
              "\n",
              "  .colab-df-quickchart {\n",
              "    background-color: var(--bg-color);\n",
              "    border: none;\n",
              "    border-radius: 50%;\n",
              "    cursor: pointer;\n",
              "    display: none;\n",
              "    fill: var(--fill-color);\n",
              "    height: 32px;\n",
              "    padding: 0;\n",
              "    width: 32px;\n",
              "  }\n",
              "\n",
              "  .colab-df-quickchart:hover {\n",
              "    background-color: var(--hover-bg-color);\n",
              "    box-shadow: 0 1px 2px rgba(60, 64, 67, 0.3), 0 1px 3px 1px rgba(60, 64, 67, 0.15);\n",
              "    fill: var(--button-hover-fill-color);\n",
              "  }\n",
              "\n",
              "  .colab-df-quickchart-complete:disabled,\n",
              "  .colab-df-quickchart-complete:disabled:hover {\n",
              "    background-color: var(--disabled-bg-color);\n",
              "    fill: var(--disabled-fill-color);\n",
              "    box-shadow: none;\n",
              "  }\n",
              "\n",
              "  .colab-df-spinner {\n",
              "    border: 2px solid var(--fill-color);\n",
              "    border-color: transparent;\n",
              "    border-bottom-color: var(--fill-color);\n",
              "    animation:\n",
              "      spin 1s steps(1) infinite;\n",
              "  }\n",
              "\n",
              "  @keyframes spin {\n",
              "    0% {\n",
              "      border-color: transparent;\n",
              "      border-bottom-color: var(--fill-color);\n",
              "      border-left-color: var(--fill-color);\n",
              "    }\n",
              "    20% {\n",
              "      border-color: transparent;\n",
              "      border-left-color: var(--fill-color);\n",
              "      border-top-color: var(--fill-color);\n",
              "    }\n",
              "    30% {\n",
              "      border-color: transparent;\n",
              "      border-left-color: var(--fill-color);\n",
              "      border-top-color: var(--fill-color);\n",
              "      border-right-color: var(--fill-color);\n",
              "    }\n",
              "    40% {\n",
              "      border-color: transparent;\n",
              "      border-right-color: var(--fill-color);\n",
              "      border-top-color: var(--fill-color);\n",
              "    }\n",
              "    60% {\n",
              "      border-color: transparent;\n",
              "      border-right-color: var(--fill-color);\n",
              "    }\n",
              "    80% {\n",
              "      border-color: transparent;\n",
              "      border-right-color: var(--fill-color);\n",
              "      border-bottom-color: var(--fill-color);\n",
              "    }\n",
              "    90% {\n",
              "      border-color: transparent;\n",
              "      border-bottom-color: var(--fill-color);\n",
              "    }\n",
              "  }\n",
              "</style>\n",
              "\n",
              "  <script>\n",
              "    async function quickchart(key) {\n",
              "      const quickchartButtonEl =\n",
              "        document.querySelector('#' + key + ' button');\n",
              "      quickchartButtonEl.disabled = true;  // To prevent multiple clicks.\n",
              "      quickchartButtonEl.classList.add('colab-df-spinner');\n",
              "      try {\n",
              "        const charts = await google.colab.kernel.invokeFunction(\n",
              "            'suggestCharts', [key], {});\n",
              "      } catch (error) {\n",
              "        console.error('Error during call to suggestCharts:', error);\n",
              "      }\n",
              "      quickchartButtonEl.classList.remove('colab-df-spinner');\n",
              "      quickchartButtonEl.classList.add('colab-df-quickchart-complete');\n",
              "    }\n",
              "    (() => {\n",
              "      let quickchartButtonEl =\n",
              "        document.querySelector('#df-ce506001-3c4b-4ddb-847f-0c42c6524f71 button');\n",
              "      quickchartButtonEl.style.display =\n",
              "        google.colab.kernel.accessAllowed ? 'block' : 'none';\n",
              "    })();\n",
              "  </script>\n",
              "</div>\n",
              "\n",
              "    </div>\n",
              "  </div>\n"
            ],
            "application/vnd.google.colaboratory.intrinsic+json": {
              "type": "dataframe",
              "variable_name": "df",
              "summary": "{\n  \"name\": \"df\",\n  \"rows\": 3796,\n  \"fields\": [\n    {\n      \"column\": \"email\",\n      \"properties\": {\n        \"dtype\": \"string\",\n        \"num_unique_values\": 3654,\n        \"samples\": [\n          \">>>>> \\\"E\\\" == Eirikur Hallgrimsson <eh@mad.scientist.com> writes:\\n\\n\\n\\n    E> Absolutely, and I've wanted to recapture it.  \\n\\n\\n\\nI don't know about this /particular/ mood, but I have used\\n\\nneuro-conditioning with aiding children in stressful\\n\\nlife-circumstances.\\n\\n\\n\\nBasically, you somehow evoke the state you want, and when you get it,\\n\\nyou do something odd, anything at all will do, but I used a gentle\\n\\n\\\"vulcan grip\\\" on their shoulder.  Later, when faced with the\\n\\nuncomfortable situation, you can retrieve /part/ of that earlier more\\n\\ndesireable state by giving them the pinch; it's not perfect (like you\\n\\nget with simpler brains) but it is an inescapable effect.\\n\\n\\n\\nThis is probably the neuro-effect that leads to performance-enhancing\\n\\nsuperstitions such as Bob Dylan not performing without his favourite\\n\\njean jacket: Because it provides the cue to a more relaxed mental\\n\\nstate, he really does play better with it than without it.\\n\\n\\n\\n-- \\n\\nGary Lawrence Murphy <garym@teledyn.com> TeleDynamics Communications Inc\\n\\n Business Advantage through Community Software : http://www.teledyn.com\\n\\n\\\"Computers are useless.  They can only give you answers.\\\"(Pablo Picasso)\\n\\n\\n\\n\\n\",\n          \"URL: http://diveintomark.org/archives/2002/10/07.html#my_good_easy\\n\\nDate: 2002-10-07T17:59:05-05:00\\n\\n\\n\\n_Joe Gregorio_: My next pet project[1]. &#8220;Trying to re-create the \\\"Good \\n\\nEasy[2]\\\" on a Windows machine.&#8221; I have also made half-hearted attempts in \\n\\nthis direction, as I am forced to use Windows during the day. I say \\n\\nhalf-hearted because I'm still application-centric, and I don't go as far with \\n\\nkeyboard shortcuts as I could. But I don't use the desktop at all (never have, \\n\\non any system), and I don't use ctrl alt keyboard shortcuts because I \\n\\npersonally find them awkward (YMMV). If you must use Windows, the first step \\n\\ntowards a productive system is managing your Start menu. \\n\\n\\n\\nI use the main level of the Start menu with numbered shortcuts to my most \\n\\ncommon programs. \\\"0 Control Panel[3]\\\", \\\"1 Mozilla[4]\\\", \\\"2 Emacs[5]\\\", \\\"3 DOS \\n\\nhome\\\", \\\"4 DOS work\\\", \\\"5 DOS incoming\\\" (each of which gives me a command line, \\n\\nbut in different directories), \\\"7 Python[6]\\\", \\\"9 IE\\\". Also \\\"# Explorer home\\\", \\n\\n\\\"$ Explorer work\\\", \\\"% Explorer incoming\\\", which open Explorer windows in \\n\\nvarious useful directories (the same directories as the DOS shortcuts, only \\n\\nwith the shift key held down, and yes, I intentionally set it up so that $ went \\n\\nto my work folder). Less-used programs are taken out of their useless submenus \\n\\n(as installed) and moved directly into the Programs submenu and given unique \\n\\nfirst letters as needed. \\\"Ad-aware[7]\\\", \\\"Excel[8]\\\", \\\"IM\\\", \\\"Netscape 4[9]\\\", \\n\\n\\\"Paint Shop Pro\\\", \\\"Query Tool (ODBC)[10]\\\", \\\"VMWare[11]\\\", \\\"Word[12]\\\". All other \\n\\nsubmenus except Startup are removed from the Programs menu. (Yes, delete \\n\\n\\\"Accessories\\\". Do you honestly ever use it? If so, it's probably a sign of a \\n\\nlarger productivity problem.) Things which never need to be run manually (like \\n\\nWinZip and Quicktime) are removed from the Programs menu. Maintaining a clean \\n\\nPrograms menu is an ongoing struggle, but well worth it. \\n\\n\\n\\nOn most modern keyboards, there is a key next to your left alt key that opens \\n\\nthe start menu, which you can press with your left thumb without taking your \\n\\nfingers off the home keys. Otherwise ctrl esc always works. Menu 4 gives me a \\n\\nnew command prompt in my work directory. Menu P N runs Netscape 4 (for \\n\\ncompatibility testing in my day job, ugh). Mozilla and Emacs are almost always \\n\\nopen, but I quit lesser-used applications as soon as I'm done using them \\n\\n(mostly because my laptop doesn't have a lot of memory). \\n\\n\\n\\nI install Cygwin[13] so that the command line is actually useful. Cygwin is a \\n\\ncollection of Windows ports of all your favorite UNIX utilities, including mv, \\n\\ncp, scp, ssh, man, tar, less, grep, patch, ncftp, cvs, and many others. And \\n\\nbash, which I don't use because I dislike how it handles Windows pathnames. I \\n\\nalso set the properties of my command line shortcuts to set the window size to \\n\\n120 x 50 (almost full screen at 1024 x 768), and screen buffer size to 120 x \\n\\n3000. Set window position at 0 x 0, and don't let the system position the \\n\\nwindow. \\n\\n\\n\\nIn Mozilla, I set my home page to \\\"about:blank\\\", set Internet Search to search \\n\\nwith Google, use Tabbed Browsing, open tabs instead of windows in all possible \\n\\ncases, always show the tab bar, and load links in the background (essential for \\n\\nweblog surfing, you can ctrl click links to open them in new tabs in the \\n\\nbackground). Under Scripts & Plugins, I do not allow scripts to open \\n\\nunrequested windows. I turn off the sidebar, turn on the Site Navigation Bar, \\n\\ndelete all pre-installed bookmarks, and create two bookmarks: one which takes \\n\\nme to my webmail, and another which takes me to my internal site search[14], \\n\\nfrom which I can find all other bookmarks I need. \\n\\n\\n\\nIn Internet Explorer, I set my home page to the page to edit my weblog, since \\n\\nthat's the only thing I do in Internet Explorer. alt tab back and forth between \\n\\nMozilla and IE is easier than ctrl pgup/pgdown between tabs within Mozilla, \\n\\nsince TEXTAREAs in Mozilla lose focus when you switch tabs, making copying and \\n\\npasting weblog entries virtually impossible. \\n\\n\\n\\nI use Emacs locally and vi remotely, because the default behavior of Emacs is \\n\\nso heinous as to render it unusable. (For instance, editing a CGI script named \\n\\nfoo.cgi on a web server with Emacs would generate a foo.cgi~ backup file, which \\n\\nis world-readable and is sent as plain text to any browser that asks. Try this \\n\\nsometime on your favorite web site.) Among other things, my .emacs file (which \\n\\nis actually called _emacs on Windows) instructs Emacs to store all backup files \\n\\nin a single directory (d:\\\\backup); to treat all XML files as DocBook, all CGI \\n\\nscripts as Python, and all SQL scripts as PL/SQL; to use Cygwin's bash shell \\n\\nfor M-x-shell; to use a single maximized frame with no menubar, titled as the \\n\\nname of the current file; to show column numbers; to accept \\\"y\\\" and \\\"n\\\" for \\n\\nyes/no questions; not to blink; not to beep; and to close the current file when \\n\\nI press M-w. I use some weird registry hacks and a hacked notepad.exe to get \\n\\nall text files to open in Emacs. (I got this idea from Ultraedit[15].) My \\n\\n_emacs file is my second most backed-up possession. \\n\\n\\n\\nI don't use Windows' useless directory structure for user home directories. On \\n\\nmy D drive I have d:\\\\home (contains directories for my books and other personal \\n\\nprojects, each under CVS control&#8212;also set as my home directory using the \\n\\nHOME environment variable), d:\\\\work (contains directories for each work \\n\\nproject, also under CVS), d:\\\\incoming (set as default download directory for \\n\\nall programs that download things), and d:\\\\backup (used by Emacs, and for \\n\\ntemporary storage, for instance for storing originals when checking out newly \\n\\ncreated CVS projects). I don't know or care what's where on my C drive. \\n\\n\\n\\nI have tried many, many address books, and still store all my contacts, email \\n\\naddresses, snail mail addresses, phone numbers, and other vital personal \\n\\ninformation in a text file called phone, stored in d:\\\\home\\\\phone. It is not in \\n\\nany particular format, other than being plain text and usually including blank \\n\\nlines between entries. I categorize people with simple keywords in parentheses \\n\\nafter their name, and use M-x-occur in Emacs to search by keyword. This file is \\n\\nmy single most backed-up possession. \\n\\n\\n\\nOther essential free Windows utilities I use (in no particular order): TweakUI\\n\\n[16], Cygwin[17], Guidescope[18], ZoneAlarm[19].\\n\\n\\n\\n\\n\\n\\n\\n[1]  http://bitworking.org/Oct2002.html#X631695997519494480\\n\\n[2]  http://www.winterspeak.com/columns/082001.html\\n\\n[3]  http://www.annoyances.org/exec/show/article02-013\\n\\n[4]  http://www.mozilla.org/\\n\\n[5]  http://www.gnu.org/software/emacs/windows/ntemacs.html\\n\\n[6]  http://www.activestate.com/Products/ActivePython/\\n\\n[7]  http://www.lavasoftusa.com/\\n\\n[8]  http://www.openoffice.org/\\n\\n[9]  http://sillydog.org/narchive/\\n\\n[10] http://gpoulose.home.att.net/\\n\\n[11] http://www.vmware.com/\\n\\n[12] http://www.openoffice.org/\\n\\n[13] http://www.cygwin.com/\\n\\n[14] http://diveintomark.org/mt/mt-search.cgi\\n\\n[15] http://www.ultraedit.com/downloads/index.html#notepad\\n\\n     Replacing Notepad with Ultraedit-32\\n\\n[16] http://www.microsoft.com/ntworkstation/downloads/PowerToys/Networking/NTTweakUI.asp\\n\\n[17] http://www.cygwin.com/\\n\\n[18] http://www.guidescope.com/\\n\\n[19] http://download.com.com/3000-2092-10039884.html?part=zonealarm&subj=dlpage\\n\\n\\n\\n\\n\",\n          \"Apologies all.  I have comitted a cardinal sin by not specifying that this\\n\\nwas for a windows machine.\\n\\n\\n\\n\\n\\n----- Original Message -----\\n\\nFrom: \\\"Kenn Humborg\\\" <kenn@bluetree.ie>\\n\\nTo: \\\"David Crozier\\\" <davidcrozier@hotmail.com>\\n\\nCc: <ilug@linux.ie>\\n\\nSent: Friday, August 16, 2002 1:51 PM\\n\\nSubject: RE: [ILUG] Autorun CDs\\n\\n\\n\\n\\n\\n> > Cheers All for your words of wisdom.\\n\\n> >\\n\\n> > I came across this which has worked a treat:-\\n\\n> >\\n\\n> > http://www.avdf.com/mar97/art_autorun.html\\n\\n>\\n\\n> (This is all Windows-related autorun stuff).\\n\\n>\\n\\n> So why did you waste the time of those who looked\\n\\n> up Linux-related info for you?  If you said that it\\n\\n> was for Windows, you'd probably have gotten both\\n\\n> more relevant answers and flames for asking this on\\n\\n> a _Linux_ mailing list.\\n\\n>\\n\\n> Sheesh...\\n\\n>\\n\\n> Later,\\n\\n> Kenn\\n\\n>\\n\\n\\n\\n-- \\n\\nIrish Linux Users' Group: ilug@linux.ie\\n\\nhttp://www.linux.ie/mailman/listinfo/ilug for (un)subscription information.\\n\\nList maintainer: listmaster@linux.ie\\n\\n\\n\"\n        ],\n        \"semantic_type\": \"\",\n        \"description\": \"\"\n      }\n    },\n    {\n      \"column\": \"category\",\n      \"properties\": {\n        \"dtype\": \"category\",\n        \"num_unique_values\": 2,\n        \"samples\": [\n          \"spam\",\n          \"not-spam\"\n        ],\n        \"semantic_type\": \"\",\n        \"description\": \"\"\n      }\n    }\n  ]\n}"
            }
          },
          "metadata": {},
          "execution_count": 8
        }
      ]
    },
    {
      "cell_type": "code",
      "source": [],
      "metadata": {
        "id": "IMZjdLqTnL7J"
      },
      "execution_count": 8,
      "outputs": []
    },
    {
      "cell_type": "markdown",
      "source": [
        "### Clean Dataset"
      ],
      "metadata": {
        "id": "y0jYMs1EDi_Z"
      }
    },
    {
      "cell_type": "code",
      "source": [
        "from bs4 import BeautifulSoup"
      ],
      "metadata": {
        "id": "Zy_nVRtKtNC0"
      },
      "execution_count": 9,
      "outputs": []
    },
    {
      "cell_type": "code",
      "source": [
        "class Cleaner():\n",
        "  def __init__(self):\n",
        "    pass\n",
        "  def put_line_breaks(self,text):\n",
        "    text = text.replace('</p>','</p>\\n')\n",
        "    return text\n",
        "  def remove_html_tags(self,text):\n",
        "    cleantext = BeautifulSoup(text, \"lxml\").text\n",
        "    return cleantext\n",
        "  def clean(self,text):\n",
        "    text = self.put_line_breaks(text)\n",
        "    text = self.remove_html_tags(text)\n",
        "    return text"
      ],
      "metadata": {
        "id": "cgD2GdJUNKdU"
      },
      "execution_count": 10,
      "outputs": []
    },
    {
      "cell_type": "code",
      "source": [],
      "metadata": {
        "id": "2ExaYmfPNKbB"
      },
      "execution_count": 10,
      "outputs": []
    },
    {
      "cell_type": "code",
      "source": [
        "cleaner = Cleaner()\n",
        "df['text_cleaned'] = df[text_column_name].apply(cleaner.clean)"
      ],
      "metadata": {
        "id": "FGZLwuEXN0Ks",
        "outputId": "bff9831b-ea39-4ed5-e11f-1d2f546ed0b0",
        "colab": {
          "base_uri": "https://localhost:8080/"
        }
      },
      "execution_count": 11,
      "outputs": [
        {
          "output_type": "stream",
          "name": "stderr",
          "text": [
            "<ipython-input-10-e69a670ac7a1>:8: MarkupResemblesLocatorWarning: The input looks more like a filename than markup. You may want to open this file and pass the filehandle into Beautiful Soup.\n",
            "  cleantext = BeautifulSoup(text, \"lxml\").text\n"
          ]
        }
      ]
    },
    {
      "cell_type": "code",
      "source": [
        "df.head()"
      ],
      "metadata": {
        "id": "PA2BCrHRbRXo",
        "colab": {
          "base_uri": "https://localhost:8080/",
          "height": 206
        },
        "outputId": "a4124810-d1aa-43dc-dd20-41c08b7587f0"
      },
      "execution_count": 12,
      "outputs": [
        {
          "output_type": "execute_result",
          "data": {
            "text/plain": [
              "                                               email  category  \\\n",
              "0  URL: http://www.newsisfree.com/click/-1,817167...  not-spam   \n",
              "1  On Thu, 19 Sep 2002, Bill Stoddard wrote:\\n\\n-...  not-spam   \n",
              "2  Dan Kohn <dan@dankohn.com> writes:\\n\\n\\n\\n> Gu...  not-spam   \n",
              "3  wintermute wrote:\\n\\n>>Anyone know where in Ir...  not-spam   \n",
              "4  I attended the same conference, and was impres...  not-spam   \n",
              "\n",
              "                                        text_cleaned  \n",
              "0  URL: http://www.newsisfree.com/click/-1,817167...  \n",
              "1  On Thu, 19 Sep 2002, Bill Stoddard wrote:\\n\\n-...  \n",
              "2  Dan Kohn  writes:\\n\\n\\n\\n> Guys, the Habeas In...  \n",
              "3  wintermute wrote:\\n\\n>>Anyone know where in Ir...  \n",
              "4  I attended the same conference, and was impres...  "
            ],
            "text/html": [
              "\n",
              "  <div id=\"df-762b1eb7-dd05-4f5f-b1f6-c35adacd20fb\" class=\"colab-df-container\">\n",
              "    <div>\n",
              "<style scoped>\n",
              "    .dataframe tbody tr th:only-of-type {\n",
              "        vertical-align: middle;\n",
              "    }\n",
              "\n",
              "    .dataframe tbody tr th {\n",
              "        vertical-align: top;\n",
              "    }\n",
              "\n",
              "    .dataframe thead th {\n",
              "        text-align: right;\n",
              "    }\n",
              "</style>\n",
              "<table border=\"1\" class=\"dataframe\">\n",
              "  <thead>\n",
              "    <tr style=\"text-align: right;\">\n",
              "      <th></th>\n",
              "      <th>email</th>\n",
              "      <th>category</th>\n",
              "      <th>text_cleaned</th>\n",
              "    </tr>\n",
              "  </thead>\n",
              "  <tbody>\n",
              "    <tr>\n",
              "      <th>0</th>\n",
              "      <td>URL: http://www.newsisfree.com/click/-1,817167...</td>\n",
              "      <td>not-spam</td>\n",
              "      <td>URL: http://www.newsisfree.com/click/-1,817167...</td>\n",
              "    </tr>\n",
              "    <tr>\n",
              "      <th>1</th>\n",
              "      <td>On Thu, 19 Sep 2002, Bill Stoddard wrote:\\n\\n-...</td>\n",
              "      <td>not-spam</td>\n",
              "      <td>On Thu, 19 Sep 2002, Bill Stoddard wrote:\\n\\n-...</td>\n",
              "    </tr>\n",
              "    <tr>\n",
              "      <th>2</th>\n",
              "      <td>Dan Kohn &lt;dan@dankohn.com&gt; writes:\\n\\n\\n\\n&gt; Gu...</td>\n",
              "      <td>not-spam</td>\n",
              "      <td>Dan Kohn  writes:\\n\\n\\n\\n&gt; Guys, the Habeas In...</td>\n",
              "    </tr>\n",
              "    <tr>\n",
              "      <th>3</th>\n",
              "      <td>wintermute wrote:\\n\\n&gt;&gt;Anyone know where in Ir...</td>\n",
              "      <td>not-spam</td>\n",
              "      <td>wintermute wrote:\\n\\n&gt;&gt;Anyone know where in Ir...</td>\n",
              "    </tr>\n",
              "    <tr>\n",
              "      <th>4</th>\n",
              "      <td>I attended the same conference, and was impres...</td>\n",
              "      <td>not-spam</td>\n",
              "      <td>I attended the same conference, and was impres...</td>\n",
              "    </tr>\n",
              "  </tbody>\n",
              "</table>\n",
              "</div>\n",
              "    <div class=\"colab-df-buttons\">\n",
              "\n",
              "  <div class=\"colab-df-container\">\n",
              "    <button class=\"colab-df-convert\" onclick=\"convertToInteractive('df-762b1eb7-dd05-4f5f-b1f6-c35adacd20fb')\"\n",
              "            title=\"Convert this dataframe to an interactive table.\"\n",
              "            style=\"display:none;\">\n",
              "\n",
              "  <svg xmlns=\"http://www.w3.org/2000/svg\" height=\"24px\" viewBox=\"0 -960 960 960\">\n",
              "    <path d=\"M120-120v-720h720v720H120Zm60-500h600v-160H180v160Zm220 220h160v-160H400v160Zm0 220h160v-160H400v160ZM180-400h160v-160H180v160Zm440 0h160v-160H620v160ZM180-180h160v-160H180v160Zm440 0h160v-160H620v160Z\"/>\n",
              "  </svg>\n",
              "    </button>\n",
              "\n",
              "  <style>\n",
              "    .colab-df-container {\n",
              "      display:flex;\n",
              "      gap: 12px;\n",
              "    }\n",
              "\n",
              "    .colab-df-convert {\n",
              "      background-color: #E8F0FE;\n",
              "      border: none;\n",
              "      border-radius: 50%;\n",
              "      cursor: pointer;\n",
              "      display: none;\n",
              "      fill: #1967D2;\n",
              "      height: 32px;\n",
              "      padding: 0 0 0 0;\n",
              "      width: 32px;\n",
              "    }\n",
              "\n",
              "    .colab-df-convert:hover {\n",
              "      background-color: #E2EBFA;\n",
              "      box-shadow: 0px 1px 2px rgba(60, 64, 67, 0.3), 0px 1px 3px 1px rgba(60, 64, 67, 0.15);\n",
              "      fill: #174EA6;\n",
              "    }\n",
              "\n",
              "    .colab-df-buttons div {\n",
              "      margin-bottom: 4px;\n",
              "    }\n",
              "\n",
              "    [theme=dark] .colab-df-convert {\n",
              "      background-color: #3B4455;\n",
              "      fill: #D2E3FC;\n",
              "    }\n",
              "\n",
              "    [theme=dark] .colab-df-convert:hover {\n",
              "      background-color: #434B5C;\n",
              "      box-shadow: 0px 1px 3px 1px rgba(0, 0, 0, 0.15);\n",
              "      filter: drop-shadow(0px 1px 2px rgba(0, 0, 0, 0.3));\n",
              "      fill: #FFFFFF;\n",
              "    }\n",
              "  </style>\n",
              "\n",
              "    <script>\n",
              "      const buttonEl =\n",
              "        document.querySelector('#df-762b1eb7-dd05-4f5f-b1f6-c35adacd20fb button.colab-df-convert');\n",
              "      buttonEl.style.display =\n",
              "        google.colab.kernel.accessAllowed ? 'block' : 'none';\n",
              "\n",
              "      async function convertToInteractive(key) {\n",
              "        const element = document.querySelector('#df-762b1eb7-dd05-4f5f-b1f6-c35adacd20fb');\n",
              "        const dataTable =\n",
              "          await google.colab.kernel.invokeFunction('convertToInteractive',\n",
              "                                                    [key], {});\n",
              "        if (!dataTable) return;\n",
              "\n",
              "        const docLinkHtml = 'Like what you see? Visit the ' +\n",
              "          '<a target=\"_blank\" href=https://colab.research.google.com/notebooks/data_table.ipynb>data table notebook</a>'\n",
              "          + ' to learn more about interactive tables.';\n",
              "        element.innerHTML = '';\n",
              "        dataTable['output_type'] = 'display_data';\n",
              "        await google.colab.output.renderOutput(dataTable, element);\n",
              "        const docLink = document.createElement('div');\n",
              "        docLink.innerHTML = docLinkHtml;\n",
              "        element.appendChild(docLink);\n",
              "      }\n",
              "    </script>\n",
              "  </div>\n",
              "\n",
              "\n",
              "<div id=\"df-009304e5-d319-4222-a281-c7759d0cd0db\">\n",
              "  <button class=\"colab-df-quickchart\" onclick=\"quickchart('df-009304e5-d319-4222-a281-c7759d0cd0db')\"\n",
              "            title=\"Suggest charts\"\n",
              "            style=\"display:none;\">\n",
              "\n",
              "<svg xmlns=\"http://www.w3.org/2000/svg\" height=\"24px\"viewBox=\"0 0 24 24\"\n",
              "     width=\"24px\">\n",
              "    <g>\n",
              "        <path d=\"M19 3H5c-1.1 0-2 .9-2 2v14c0 1.1.9 2 2 2h14c1.1 0 2-.9 2-2V5c0-1.1-.9-2-2-2zM9 17H7v-7h2v7zm4 0h-2V7h2v10zm4 0h-2v-4h2v4z\"/>\n",
              "    </g>\n",
              "</svg>\n",
              "  </button>\n",
              "\n",
              "<style>\n",
              "  .colab-df-quickchart {\n",
              "      --bg-color: #E8F0FE;\n",
              "      --fill-color: #1967D2;\n",
              "      --hover-bg-color: #E2EBFA;\n",
              "      --hover-fill-color: #174EA6;\n",
              "      --disabled-fill-color: #AAA;\n",
              "      --disabled-bg-color: #DDD;\n",
              "  }\n",
              "\n",
              "  [theme=dark] .colab-df-quickchart {\n",
              "      --bg-color: #3B4455;\n",
              "      --fill-color: #D2E3FC;\n",
              "      --hover-bg-color: #434B5C;\n",
              "      --hover-fill-color: #FFFFFF;\n",
              "      --disabled-bg-color: #3B4455;\n",
              "      --disabled-fill-color: #666;\n",
              "  }\n",
              "\n",
              "  .colab-df-quickchart {\n",
              "    background-color: var(--bg-color);\n",
              "    border: none;\n",
              "    border-radius: 50%;\n",
              "    cursor: pointer;\n",
              "    display: none;\n",
              "    fill: var(--fill-color);\n",
              "    height: 32px;\n",
              "    padding: 0;\n",
              "    width: 32px;\n",
              "  }\n",
              "\n",
              "  .colab-df-quickchart:hover {\n",
              "    background-color: var(--hover-bg-color);\n",
              "    box-shadow: 0 1px 2px rgba(60, 64, 67, 0.3), 0 1px 3px 1px rgba(60, 64, 67, 0.15);\n",
              "    fill: var(--button-hover-fill-color);\n",
              "  }\n",
              "\n",
              "  .colab-df-quickchart-complete:disabled,\n",
              "  .colab-df-quickchart-complete:disabled:hover {\n",
              "    background-color: var(--disabled-bg-color);\n",
              "    fill: var(--disabled-fill-color);\n",
              "    box-shadow: none;\n",
              "  }\n",
              "\n",
              "  .colab-df-spinner {\n",
              "    border: 2px solid var(--fill-color);\n",
              "    border-color: transparent;\n",
              "    border-bottom-color: var(--fill-color);\n",
              "    animation:\n",
              "      spin 1s steps(1) infinite;\n",
              "  }\n",
              "\n",
              "  @keyframes spin {\n",
              "    0% {\n",
              "      border-color: transparent;\n",
              "      border-bottom-color: var(--fill-color);\n",
              "      border-left-color: var(--fill-color);\n",
              "    }\n",
              "    20% {\n",
              "      border-color: transparent;\n",
              "      border-left-color: var(--fill-color);\n",
              "      border-top-color: var(--fill-color);\n",
              "    }\n",
              "    30% {\n",
              "      border-color: transparent;\n",
              "      border-left-color: var(--fill-color);\n",
              "      border-top-color: var(--fill-color);\n",
              "      border-right-color: var(--fill-color);\n",
              "    }\n",
              "    40% {\n",
              "      border-color: transparent;\n",
              "      border-right-color: var(--fill-color);\n",
              "      border-top-color: var(--fill-color);\n",
              "    }\n",
              "    60% {\n",
              "      border-color: transparent;\n",
              "      border-right-color: var(--fill-color);\n",
              "    }\n",
              "    80% {\n",
              "      border-color: transparent;\n",
              "      border-right-color: var(--fill-color);\n",
              "      border-bottom-color: var(--fill-color);\n",
              "    }\n",
              "    90% {\n",
              "      border-color: transparent;\n",
              "      border-bottom-color: var(--fill-color);\n",
              "    }\n",
              "  }\n",
              "</style>\n",
              "\n",
              "  <script>\n",
              "    async function quickchart(key) {\n",
              "      const quickchartButtonEl =\n",
              "        document.querySelector('#' + key + ' button');\n",
              "      quickchartButtonEl.disabled = true;  // To prevent multiple clicks.\n",
              "      quickchartButtonEl.classList.add('colab-df-spinner');\n",
              "      try {\n",
              "        const charts = await google.colab.kernel.invokeFunction(\n",
              "            'suggestCharts', [key], {});\n",
              "      } catch (error) {\n",
              "        console.error('Error during call to suggestCharts:', error);\n",
              "      }\n",
              "      quickchartButtonEl.classList.remove('colab-df-spinner');\n",
              "      quickchartButtonEl.classList.add('colab-df-quickchart-complete');\n",
              "    }\n",
              "    (() => {\n",
              "      let quickchartButtonEl =\n",
              "        document.querySelector('#df-009304e5-d319-4222-a281-c7759d0cd0db button');\n",
              "      quickchartButtonEl.style.display =\n",
              "        google.colab.kernel.accessAllowed ? 'block' : 'none';\n",
              "    })();\n",
              "  </script>\n",
              "</div>\n",
              "\n",
              "    </div>\n",
              "  </div>\n"
            ],
            "application/vnd.google.colaboratory.intrinsic+json": {
              "type": "dataframe",
              "variable_name": "df",
              "summary": "{\n  \"name\": \"df\",\n  \"rows\": 3796,\n  \"fields\": [\n    {\n      \"column\": \"email\",\n      \"properties\": {\n        \"dtype\": \"string\",\n        \"num_unique_values\": 3654,\n        \"samples\": [\n          \">>>>> \\\"E\\\" == Eirikur Hallgrimsson <eh@mad.scientist.com> writes:\\n\\n\\n\\n    E> Absolutely, and I've wanted to recapture it.  \\n\\n\\n\\nI don't know about this /particular/ mood, but I have used\\n\\nneuro-conditioning with aiding children in stressful\\n\\nlife-circumstances.\\n\\n\\n\\nBasically, you somehow evoke the state you want, and when you get it,\\n\\nyou do something odd, anything at all will do, but I used a gentle\\n\\n\\\"vulcan grip\\\" on their shoulder.  Later, when faced with the\\n\\nuncomfortable situation, you can retrieve /part/ of that earlier more\\n\\ndesireable state by giving them the pinch; it's not perfect (like you\\n\\nget with simpler brains) but it is an inescapable effect.\\n\\n\\n\\nThis is probably the neuro-effect that leads to performance-enhancing\\n\\nsuperstitions such as Bob Dylan not performing without his favourite\\n\\njean jacket: Because it provides the cue to a more relaxed mental\\n\\nstate, he really does play better with it than without it.\\n\\n\\n\\n-- \\n\\nGary Lawrence Murphy <garym@teledyn.com> TeleDynamics Communications Inc\\n\\n Business Advantage through Community Software : http://www.teledyn.com\\n\\n\\\"Computers are useless.  They can only give you answers.\\\"(Pablo Picasso)\\n\\n\\n\\n\\n\",\n          \"URL: http://diveintomark.org/archives/2002/10/07.html#my_good_easy\\n\\nDate: 2002-10-07T17:59:05-05:00\\n\\n\\n\\n_Joe Gregorio_: My next pet project[1]. &#8220;Trying to re-create the \\\"Good \\n\\nEasy[2]\\\" on a Windows machine.&#8221; I have also made half-hearted attempts in \\n\\nthis direction, as I am forced to use Windows during the day. I say \\n\\nhalf-hearted because I'm still application-centric, and I don't go as far with \\n\\nkeyboard shortcuts as I could. But I don't use the desktop at all (never have, \\n\\non any system), and I don't use ctrl alt keyboard shortcuts because I \\n\\npersonally find them awkward (YMMV). If you must use Windows, the first step \\n\\ntowards a productive system is managing your Start menu. \\n\\n\\n\\nI use the main level of the Start menu with numbered shortcuts to my most \\n\\ncommon programs. \\\"0 Control Panel[3]\\\", \\\"1 Mozilla[4]\\\", \\\"2 Emacs[5]\\\", \\\"3 DOS \\n\\nhome\\\", \\\"4 DOS work\\\", \\\"5 DOS incoming\\\" (each of which gives me a command line, \\n\\nbut in different directories), \\\"7 Python[6]\\\", \\\"9 IE\\\". Also \\\"# Explorer home\\\", \\n\\n\\\"$ Explorer work\\\", \\\"% Explorer incoming\\\", which open Explorer windows in \\n\\nvarious useful directories (the same directories as the DOS shortcuts, only \\n\\nwith the shift key held down, and yes, I intentionally set it up so that $ went \\n\\nto my work folder). Less-used programs are taken out of their useless submenus \\n\\n(as installed) and moved directly into the Programs submenu and given unique \\n\\nfirst letters as needed. \\\"Ad-aware[7]\\\", \\\"Excel[8]\\\", \\\"IM\\\", \\\"Netscape 4[9]\\\", \\n\\n\\\"Paint Shop Pro\\\", \\\"Query Tool (ODBC)[10]\\\", \\\"VMWare[11]\\\", \\\"Word[12]\\\". All other \\n\\nsubmenus except Startup are removed from the Programs menu. (Yes, delete \\n\\n\\\"Accessories\\\". Do you honestly ever use it? If so, it's probably a sign of a \\n\\nlarger productivity problem.) Things which never need to be run manually (like \\n\\nWinZip and Quicktime) are removed from the Programs menu. Maintaining a clean \\n\\nPrograms menu is an ongoing struggle, but well worth it. \\n\\n\\n\\nOn most modern keyboards, there is a key next to your left alt key that opens \\n\\nthe start menu, which you can press with your left thumb without taking your \\n\\nfingers off the home keys. Otherwise ctrl esc always works. Menu 4 gives me a \\n\\nnew command prompt in my work directory. Menu P N runs Netscape 4 (for \\n\\ncompatibility testing in my day job, ugh). Mozilla and Emacs are almost always \\n\\nopen, but I quit lesser-used applications as soon as I'm done using them \\n\\n(mostly because my laptop doesn't have a lot of memory). \\n\\n\\n\\nI install Cygwin[13] so that the command line is actually useful. Cygwin is a \\n\\ncollection of Windows ports of all your favorite UNIX utilities, including mv, \\n\\ncp, scp, ssh, man, tar, less, grep, patch, ncftp, cvs, and many others. And \\n\\nbash, which I don't use because I dislike how it handles Windows pathnames. I \\n\\nalso set the properties of my command line shortcuts to set the window size to \\n\\n120 x 50 (almost full screen at 1024 x 768), and screen buffer size to 120 x \\n\\n3000. Set window position at 0 x 0, and don't let the system position the \\n\\nwindow. \\n\\n\\n\\nIn Mozilla, I set my home page to \\\"about:blank\\\", set Internet Search to search \\n\\nwith Google, use Tabbed Browsing, open tabs instead of windows in all possible \\n\\ncases, always show the tab bar, and load links in the background (essential for \\n\\nweblog surfing, you can ctrl click links to open them in new tabs in the \\n\\nbackground). Under Scripts & Plugins, I do not allow scripts to open \\n\\nunrequested windows. I turn off the sidebar, turn on the Site Navigation Bar, \\n\\ndelete all pre-installed bookmarks, and create two bookmarks: one which takes \\n\\nme to my webmail, and another which takes me to my internal site search[14], \\n\\nfrom which I can find all other bookmarks I need. \\n\\n\\n\\nIn Internet Explorer, I set my home page to the page to edit my weblog, since \\n\\nthat's the only thing I do in Internet Explorer. alt tab back and forth between \\n\\nMozilla and IE is easier than ctrl pgup/pgdown between tabs within Mozilla, \\n\\nsince TEXTAREAs in Mozilla lose focus when you switch tabs, making copying and \\n\\npasting weblog entries virtually impossible. \\n\\n\\n\\nI use Emacs locally and vi remotely, because the default behavior of Emacs is \\n\\nso heinous as to render it unusable. (For instance, editing a CGI script named \\n\\nfoo.cgi on a web server with Emacs would generate a foo.cgi~ backup file, which \\n\\nis world-readable and is sent as plain text to any browser that asks. Try this \\n\\nsometime on your favorite web site.) Among other things, my .emacs file (which \\n\\nis actually called _emacs on Windows) instructs Emacs to store all backup files \\n\\nin a single directory (d:\\\\backup); to treat all XML files as DocBook, all CGI \\n\\nscripts as Python, and all SQL scripts as PL/SQL; to use Cygwin's bash shell \\n\\nfor M-x-shell; to use a single maximized frame with no menubar, titled as the \\n\\nname of the current file; to show column numbers; to accept \\\"y\\\" and \\\"n\\\" for \\n\\nyes/no questions; not to blink; not to beep; and to close the current file when \\n\\nI press M-w. I use some weird registry hacks and a hacked notepad.exe to get \\n\\nall text files to open in Emacs. (I got this idea from Ultraedit[15].) My \\n\\n_emacs file is my second most backed-up possession. \\n\\n\\n\\nI don't use Windows' useless directory structure for user home directories. On \\n\\nmy D drive I have d:\\\\home (contains directories for my books and other personal \\n\\nprojects, each under CVS control&#8212;also set as my home directory using the \\n\\nHOME environment variable), d:\\\\work (contains directories for each work \\n\\nproject, also under CVS), d:\\\\incoming (set as default download directory for \\n\\nall programs that download things), and d:\\\\backup (used by Emacs, and for \\n\\ntemporary storage, for instance for storing originals when checking out newly \\n\\ncreated CVS projects). I don't know or care what's where on my C drive. \\n\\n\\n\\nI have tried many, many address books, and still store all my contacts, email \\n\\naddresses, snail mail addresses, phone numbers, and other vital personal \\n\\ninformation in a text file called phone, stored in d:\\\\home\\\\phone. It is not in \\n\\nany particular format, other than being plain text and usually including blank \\n\\nlines between entries. I categorize people with simple keywords in parentheses \\n\\nafter their name, and use M-x-occur in Emacs to search by keyword. This file is \\n\\nmy single most backed-up possession. \\n\\n\\n\\nOther essential free Windows utilities I use (in no particular order): TweakUI\\n\\n[16], Cygwin[17], Guidescope[18], ZoneAlarm[19].\\n\\n\\n\\n\\n\\n\\n\\n[1]  http://bitworking.org/Oct2002.html#X631695997519494480\\n\\n[2]  http://www.winterspeak.com/columns/082001.html\\n\\n[3]  http://www.annoyances.org/exec/show/article02-013\\n\\n[4]  http://www.mozilla.org/\\n\\n[5]  http://www.gnu.org/software/emacs/windows/ntemacs.html\\n\\n[6]  http://www.activestate.com/Products/ActivePython/\\n\\n[7]  http://www.lavasoftusa.com/\\n\\n[8]  http://www.openoffice.org/\\n\\n[9]  http://sillydog.org/narchive/\\n\\n[10] http://gpoulose.home.att.net/\\n\\n[11] http://www.vmware.com/\\n\\n[12] http://www.openoffice.org/\\n\\n[13] http://www.cygwin.com/\\n\\n[14] http://diveintomark.org/mt/mt-search.cgi\\n\\n[15] http://www.ultraedit.com/downloads/index.html#notepad\\n\\n     Replacing Notepad with Ultraedit-32\\n\\n[16] http://www.microsoft.com/ntworkstation/downloads/PowerToys/Networking/NTTweakUI.asp\\n\\n[17] http://www.cygwin.com/\\n\\n[18] http://www.guidescope.com/\\n\\n[19] http://download.com.com/3000-2092-10039884.html?part=zonealarm&subj=dlpage\\n\\n\\n\\n\\n\",\n          \"Apologies all.  I have comitted a cardinal sin by not specifying that this\\n\\nwas for a windows machine.\\n\\n\\n\\n\\n\\n----- Original Message -----\\n\\nFrom: \\\"Kenn Humborg\\\" <kenn@bluetree.ie>\\n\\nTo: \\\"David Crozier\\\" <davidcrozier@hotmail.com>\\n\\nCc: <ilug@linux.ie>\\n\\nSent: Friday, August 16, 2002 1:51 PM\\n\\nSubject: RE: [ILUG] Autorun CDs\\n\\n\\n\\n\\n\\n> > Cheers All for your words of wisdom.\\n\\n> >\\n\\n> > I came across this which has worked a treat:-\\n\\n> >\\n\\n> > http://www.avdf.com/mar97/art_autorun.html\\n\\n>\\n\\n> (This is all Windows-related autorun stuff).\\n\\n>\\n\\n> So why did you waste the time of those who looked\\n\\n> up Linux-related info for you?  If you said that it\\n\\n> was for Windows, you'd probably have gotten both\\n\\n> more relevant answers and flames for asking this on\\n\\n> a _Linux_ mailing list.\\n\\n>\\n\\n> Sheesh...\\n\\n>\\n\\n> Later,\\n\\n> Kenn\\n\\n>\\n\\n\\n\\n-- \\n\\nIrish Linux Users' Group: ilug@linux.ie\\n\\nhttp://www.linux.ie/mailman/listinfo/ilug for (un)subscription information.\\n\\nList maintainer: listmaster@linux.ie\\n\\n\\n\"\n        ],\n        \"semantic_type\": \"\",\n        \"description\": \"\"\n      }\n    },\n    {\n      \"column\": \"category\",\n      \"properties\": {\n        \"dtype\": \"category\",\n        \"num_unique_values\": 2,\n        \"samples\": [\n          \"spam\",\n          \"not-spam\"\n        ],\n        \"semantic_type\": \"\",\n        \"description\": \"\"\n      }\n    },\n    {\n      \"column\": \"text_cleaned\",\n      \"properties\": {\n        \"dtype\": \"string\",\n        \"num_unique_values\": 3608,\n        \"samples\": [\n          \"see me naked Click Here\\n\",\n          \"Do You Want To Teach and Grow Rich?\\n\\n\\n\\n\\n\\n\\n\\n\\n\\n\\n\\nIf you are a motivated and qualified communicator, I will personally train you to do 3  20 minutes presentations per day to qualify prospects that I can provide to you.  We will demonstrate to you that you can make $400 a day part time using this system.  Or, if you have 20 hours per week, as in my case, you can make in excess of $10,000 per week, as I am currently generating (verifiable, by the way).  \\n\\n\\n\\nPlus I will introduce you to my mentor who makes well in excess of $1,000,000 annually.\\n\\n\\n\\nMany are called, few are chosen.  This opportunity will be limited to one qualified individual per state.  Make the call and call the 24 hour pre-recorded message number below.  We will take as much or as little time as you need to see if this program is right for you.  \\n\\n\\n\\n                          *** 801-397-9010 *** \\n\\n\\n\\nPlease do not make this call unless you are genuinely money motivated and qualified.  I need people who already have people skills in place and have either made large amounts of money in the past or are ready to generate large amounts of money in the future.  Looking forward to your call.    \\n\\n\\n\\n                            *** 801-397-9010 *** \\n\\n\\n\\n\\n\\n\\n\\n\\n\\n\\n\\n\\n\\n\\n\\n\\n\\n\\n\\n\\n\\n\\n\\n\\n\\n\\n\\n\\n\\n\\n\\n\\n\\n_______________________________________________________________ \\n\\n*To be taken out of this database: \\n\\n  secco44@poetic.com  \\n\\n\\n\\n\\n\\n\\n\\n\\n\\n\\n\\n9059Dmel0-270bmbl15\\n\\n5677ZUad6-196gUSL4757Wrmh7-794oPGX9206MkEq3-551QUHl47\\n\\n\\n\"\n        ],\n        \"semantic_type\": \"\",\n        \"description\": \"\"\n      }\n    }\n  ]\n}"
            }
          },
          "metadata": {},
          "execution_count": 12
        }
      ]
    },
    {
      "cell_type": "code",
      "source": [],
      "metadata": {
        "id": "YeO6mb1ySSS1"
      },
      "execution_count": 12,
      "outputs": []
    },
    {
      "cell_type": "markdown",
      "source": [
        "### Label Encoder"
      ],
      "metadata": {
        "id": "9disOu73d71k"
      }
    },
    {
      "cell_type": "code",
      "source": [
        "from sklearn import preprocessing"
      ],
      "metadata": {
        "id": "re3wIKaHtDxe"
      },
      "execution_count": 13,
      "outputs": []
    },
    {
      "cell_type": "code",
      "source": [
        "le = preprocessing.LabelEncoder()\n",
        "le.fit(df[label_column_name].tolist())\n",
        "df['label'] = le.transform(df[label_column_name].tolist())"
      ],
      "metadata": {
        "id": "amv1wYnqfz44"
      },
      "execution_count": 14,
      "outputs": []
    },
    {
      "cell_type": "code",
      "source": [
        "df.head()"
      ],
      "metadata": {
        "id": "ynKkUmJPm_QK",
        "colab": {
          "base_uri": "https://localhost:8080/",
          "height": 206
        },
        "outputId": "7170ff88-eef7-4e20-bbad-d0b6eb873b4e"
      },
      "execution_count": 15,
      "outputs": [
        {
          "output_type": "execute_result",
          "data": {
            "text/plain": [
              "                                               email  category  \\\n",
              "0  URL: http://www.newsisfree.com/click/-1,817167...  not-spam   \n",
              "1  On Thu, 19 Sep 2002, Bill Stoddard wrote:\\n\\n-...  not-spam   \n",
              "2  Dan Kohn <dan@dankohn.com> writes:\\n\\n\\n\\n> Gu...  not-spam   \n",
              "3  wintermute wrote:\\n\\n>>Anyone know where in Ir...  not-spam   \n",
              "4  I attended the same conference, and was impres...  not-spam   \n",
              "\n",
              "                                        text_cleaned  label  \n",
              "0  URL: http://www.newsisfree.com/click/-1,817167...      0  \n",
              "1  On Thu, 19 Sep 2002, Bill Stoddard wrote:\\n\\n-...      0  \n",
              "2  Dan Kohn  writes:\\n\\n\\n\\n> Guys, the Habeas In...      0  \n",
              "3  wintermute wrote:\\n\\n>>Anyone know where in Ir...      0  \n",
              "4  I attended the same conference, and was impres...      0  "
            ],
            "text/html": [
              "\n",
              "  <div id=\"df-823e92c2-4e59-4fd1-a8e5-050d25e351f2\" class=\"colab-df-container\">\n",
              "    <div>\n",
              "<style scoped>\n",
              "    .dataframe tbody tr th:only-of-type {\n",
              "        vertical-align: middle;\n",
              "    }\n",
              "\n",
              "    .dataframe tbody tr th {\n",
              "        vertical-align: top;\n",
              "    }\n",
              "\n",
              "    .dataframe thead th {\n",
              "        text-align: right;\n",
              "    }\n",
              "</style>\n",
              "<table border=\"1\" class=\"dataframe\">\n",
              "  <thead>\n",
              "    <tr style=\"text-align: right;\">\n",
              "      <th></th>\n",
              "      <th>email</th>\n",
              "      <th>category</th>\n",
              "      <th>text_cleaned</th>\n",
              "      <th>label</th>\n",
              "    </tr>\n",
              "  </thead>\n",
              "  <tbody>\n",
              "    <tr>\n",
              "      <th>0</th>\n",
              "      <td>URL: http://www.newsisfree.com/click/-1,817167...</td>\n",
              "      <td>not-spam</td>\n",
              "      <td>URL: http://www.newsisfree.com/click/-1,817167...</td>\n",
              "      <td>0</td>\n",
              "    </tr>\n",
              "    <tr>\n",
              "      <th>1</th>\n",
              "      <td>On Thu, 19 Sep 2002, Bill Stoddard wrote:\\n\\n-...</td>\n",
              "      <td>not-spam</td>\n",
              "      <td>On Thu, 19 Sep 2002, Bill Stoddard wrote:\\n\\n-...</td>\n",
              "      <td>0</td>\n",
              "    </tr>\n",
              "    <tr>\n",
              "      <th>2</th>\n",
              "      <td>Dan Kohn &lt;dan@dankohn.com&gt; writes:\\n\\n\\n\\n&gt; Gu...</td>\n",
              "      <td>not-spam</td>\n",
              "      <td>Dan Kohn  writes:\\n\\n\\n\\n&gt; Guys, the Habeas In...</td>\n",
              "      <td>0</td>\n",
              "    </tr>\n",
              "    <tr>\n",
              "      <th>3</th>\n",
              "      <td>wintermute wrote:\\n\\n&gt;&gt;Anyone know where in Ir...</td>\n",
              "      <td>not-spam</td>\n",
              "      <td>wintermute wrote:\\n\\n&gt;&gt;Anyone know where in Ir...</td>\n",
              "      <td>0</td>\n",
              "    </tr>\n",
              "    <tr>\n",
              "      <th>4</th>\n",
              "      <td>I attended the same conference, and was impres...</td>\n",
              "      <td>not-spam</td>\n",
              "      <td>I attended the same conference, and was impres...</td>\n",
              "      <td>0</td>\n",
              "    </tr>\n",
              "  </tbody>\n",
              "</table>\n",
              "</div>\n",
              "    <div class=\"colab-df-buttons\">\n",
              "\n",
              "  <div class=\"colab-df-container\">\n",
              "    <button class=\"colab-df-convert\" onclick=\"convertToInteractive('df-823e92c2-4e59-4fd1-a8e5-050d25e351f2')\"\n",
              "            title=\"Convert this dataframe to an interactive table.\"\n",
              "            style=\"display:none;\">\n",
              "\n",
              "  <svg xmlns=\"http://www.w3.org/2000/svg\" height=\"24px\" viewBox=\"0 -960 960 960\">\n",
              "    <path d=\"M120-120v-720h720v720H120Zm60-500h600v-160H180v160Zm220 220h160v-160H400v160Zm0 220h160v-160H400v160ZM180-400h160v-160H180v160Zm440 0h160v-160H620v160ZM180-180h160v-160H180v160Zm440 0h160v-160H620v160Z\"/>\n",
              "  </svg>\n",
              "    </button>\n",
              "\n",
              "  <style>\n",
              "    .colab-df-container {\n",
              "      display:flex;\n",
              "      gap: 12px;\n",
              "    }\n",
              "\n",
              "    .colab-df-convert {\n",
              "      background-color: #E8F0FE;\n",
              "      border: none;\n",
              "      border-radius: 50%;\n",
              "      cursor: pointer;\n",
              "      display: none;\n",
              "      fill: #1967D2;\n",
              "      height: 32px;\n",
              "      padding: 0 0 0 0;\n",
              "      width: 32px;\n",
              "    }\n",
              "\n",
              "    .colab-df-convert:hover {\n",
              "      background-color: #E2EBFA;\n",
              "      box-shadow: 0px 1px 2px rgba(60, 64, 67, 0.3), 0px 1px 3px 1px rgba(60, 64, 67, 0.15);\n",
              "      fill: #174EA6;\n",
              "    }\n",
              "\n",
              "    .colab-df-buttons div {\n",
              "      margin-bottom: 4px;\n",
              "    }\n",
              "\n",
              "    [theme=dark] .colab-df-convert {\n",
              "      background-color: #3B4455;\n",
              "      fill: #D2E3FC;\n",
              "    }\n",
              "\n",
              "    [theme=dark] .colab-df-convert:hover {\n",
              "      background-color: #434B5C;\n",
              "      box-shadow: 0px 1px 3px 1px rgba(0, 0, 0, 0.15);\n",
              "      filter: drop-shadow(0px 1px 2px rgba(0, 0, 0, 0.3));\n",
              "      fill: #FFFFFF;\n",
              "    }\n",
              "  </style>\n",
              "\n",
              "    <script>\n",
              "      const buttonEl =\n",
              "        document.querySelector('#df-823e92c2-4e59-4fd1-a8e5-050d25e351f2 button.colab-df-convert');\n",
              "      buttonEl.style.display =\n",
              "        google.colab.kernel.accessAllowed ? 'block' : 'none';\n",
              "\n",
              "      async function convertToInteractive(key) {\n",
              "        const element = document.querySelector('#df-823e92c2-4e59-4fd1-a8e5-050d25e351f2');\n",
              "        const dataTable =\n",
              "          await google.colab.kernel.invokeFunction('convertToInteractive',\n",
              "                                                    [key], {});\n",
              "        if (!dataTable) return;\n",
              "\n",
              "        const docLinkHtml = 'Like what you see? Visit the ' +\n",
              "          '<a target=\"_blank\" href=https://colab.research.google.com/notebooks/data_table.ipynb>data table notebook</a>'\n",
              "          + ' to learn more about interactive tables.';\n",
              "        element.innerHTML = '';\n",
              "        dataTable['output_type'] = 'display_data';\n",
              "        await google.colab.output.renderOutput(dataTable, element);\n",
              "        const docLink = document.createElement('div');\n",
              "        docLink.innerHTML = docLinkHtml;\n",
              "        element.appendChild(docLink);\n",
              "      }\n",
              "    </script>\n",
              "  </div>\n",
              "\n",
              "\n",
              "<div id=\"df-f9b2b50e-96dc-45c8-b0b8-18a5b9cc1cd4\">\n",
              "  <button class=\"colab-df-quickchart\" onclick=\"quickchart('df-f9b2b50e-96dc-45c8-b0b8-18a5b9cc1cd4')\"\n",
              "            title=\"Suggest charts\"\n",
              "            style=\"display:none;\">\n",
              "\n",
              "<svg xmlns=\"http://www.w3.org/2000/svg\" height=\"24px\"viewBox=\"0 0 24 24\"\n",
              "     width=\"24px\">\n",
              "    <g>\n",
              "        <path d=\"M19 3H5c-1.1 0-2 .9-2 2v14c0 1.1.9 2 2 2h14c1.1 0 2-.9 2-2V5c0-1.1-.9-2-2-2zM9 17H7v-7h2v7zm4 0h-2V7h2v10zm4 0h-2v-4h2v4z\"/>\n",
              "    </g>\n",
              "</svg>\n",
              "  </button>\n",
              "\n",
              "<style>\n",
              "  .colab-df-quickchart {\n",
              "      --bg-color: #E8F0FE;\n",
              "      --fill-color: #1967D2;\n",
              "      --hover-bg-color: #E2EBFA;\n",
              "      --hover-fill-color: #174EA6;\n",
              "      --disabled-fill-color: #AAA;\n",
              "      --disabled-bg-color: #DDD;\n",
              "  }\n",
              "\n",
              "  [theme=dark] .colab-df-quickchart {\n",
              "      --bg-color: #3B4455;\n",
              "      --fill-color: #D2E3FC;\n",
              "      --hover-bg-color: #434B5C;\n",
              "      --hover-fill-color: #FFFFFF;\n",
              "      --disabled-bg-color: #3B4455;\n",
              "      --disabled-fill-color: #666;\n",
              "  }\n",
              "\n",
              "  .colab-df-quickchart {\n",
              "    background-color: var(--bg-color);\n",
              "    border: none;\n",
              "    border-radius: 50%;\n",
              "    cursor: pointer;\n",
              "    display: none;\n",
              "    fill: var(--fill-color);\n",
              "    height: 32px;\n",
              "    padding: 0;\n",
              "    width: 32px;\n",
              "  }\n",
              "\n",
              "  .colab-df-quickchart:hover {\n",
              "    background-color: var(--hover-bg-color);\n",
              "    box-shadow: 0 1px 2px rgba(60, 64, 67, 0.3), 0 1px 3px 1px rgba(60, 64, 67, 0.15);\n",
              "    fill: var(--button-hover-fill-color);\n",
              "  }\n",
              "\n",
              "  .colab-df-quickchart-complete:disabled,\n",
              "  .colab-df-quickchart-complete:disabled:hover {\n",
              "    background-color: var(--disabled-bg-color);\n",
              "    fill: var(--disabled-fill-color);\n",
              "    box-shadow: none;\n",
              "  }\n",
              "\n",
              "  .colab-df-spinner {\n",
              "    border: 2px solid var(--fill-color);\n",
              "    border-color: transparent;\n",
              "    border-bottom-color: var(--fill-color);\n",
              "    animation:\n",
              "      spin 1s steps(1) infinite;\n",
              "  }\n",
              "\n",
              "  @keyframes spin {\n",
              "    0% {\n",
              "      border-color: transparent;\n",
              "      border-bottom-color: var(--fill-color);\n",
              "      border-left-color: var(--fill-color);\n",
              "    }\n",
              "    20% {\n",
              "      border-color: transparent;\n",
              "      border-left-color: var(--fill-color);\n",
              "      border-top-color: var(--fill-color);\n",
              "    }\n",
              "    30% {\n",
              "      border-color: transparent;\n",
              "      border-left-color: var(--fill-color);\n",
              "      border-top-color: var(--fill-color);\n",
              "      border-right-color: var(--fill-color);\n",
              "    }\n",
              "    40% {\n",
              "      border-color: transparent;\n",
              "      border-right-color: var(--fill-color);\n",
              "      border-top-color: var(--fill-color);\n",
              "    }\n",
              "    60% {\n",
              "      border-color: transparent;\n",
              "      border-right-color: var(--fill-color);\n",
              "    }\n",
              "    80% {\n",
              "      border-color: transparent;\n",
              "      border-right-color: var(--fill-color);\n",
              "      border-bottom-color: var(--fill-color);\n",
              "    }\n",
              "    90% {\n",
              "      border-color: transparent;\n",
              "      border-bottom-color: var(--fill-color);\n",
              "    }\n",
              "  }\n",
              "</style>\n",
              "\n",
              "  <script>\n",
              "    async function quickchart(key) {\n",
              "      const quickchartButtonEl =\n",
              "        document.querySelector('#' + key + ' button');\n",
              "      quickchartButtonEl.disabled = true;  // To prevent multiple clicks.\n",
              "      quickchartButtonEl.classList.add('colab-df-spinner');\n",
              "      try {\n",
              "        const charts = await google.colab.kernel.invokeFunction(\n",
              "            'suggestCharts', [key], {});\n",
              "      } catch (error) {\n",
              "        console.error('Error during call to suggestCharts:', error);\n",
              "      }\n",
              "      quickchartButtonEl.classList.remove('colab-df-spinner');\n",
              "      quickchartButtonEl.classList.add('colab-df-quickchart-complete');\n",
              "    }\n",
              "    (() => {\n",
              "      let quickchartButtonEl =\n",
              "        document.querySelector('#df-f9b2b50e-96dc-45c8-b0b8-18a5b9cc1cd4 button');\n",
              "      quickchartButtonEl.style.display =\n",
              "        google.colab.kernel.accessAllowed ? 'block' : 'none';\n",
              "    })();\n",
              "  </script>\n",
              "</div>\n",
              "\n",
              "    </div>\n",
              "  </div>\n"
            ],
            "application/vnd.google.colaboratory.intrinsic+json": {
              "type": "dataframe",
              "variable_name": "df",
              "summary": "{\n  \"name\": \"df\",\n  \"rows\": 3796,\n  \"fields\": [\n    {\n      \"column\": \"email\",\n      \"properties\": {\n        \"dtype\": \"string\",\n        \"num_unique_values\": 3654,\n        \"samples\": [\n          \">>>>> \\\"E\\\" == Eirikur Hallgrimsson <eh@mad.scientist.com> writes:\\n\\n\\n\\n    E> Absolutely, and I've wanted to recapture it.  \\n\\n\\n\\nI don't know about this /particular/ mood, but I have used\\n\\nneuro-conditioning with aiding children in stressful\\n\\nlife-circumstances.\\n\\n\\n\\nBasically, you somehow evoke the state you want, and when you get it,\\n\\nyou do something odd, anything at all will do, but I used a gentle\\n\\n\\\"vulcan grip\\\" on their shoulder.  Later, when faced with the\\n\\nuncomfortable situation, you can retrieve /part/ of that earlier more\\n\\ndesireable state by giving them the pinch; it's not perfect (like you\\n\\nget with simpler brains) but it is an inescapable effect.\\n\\n\\n\\nThis is probably the neuro-effect that leads to performance-enhancing\\n\\nsuperstitions such as Bob Dylan not performing without his favourite\\n\\njean jacket: Because it provides the cue to a more relaxed mental\\n\\nstate, he really does play better with it than without it.\\n\\n\\n\\n-- \\n\\nGary Lawrence Murphy <garym@teledyn.com> TeleDynamics Communications Inc\\n\\n Business Advantage through Community Software : http://www.teledyn.com\\n\\n\\\"Computers are useless.  They can only give you answers.\\\"(Pablo Picasso)\\n\\n\\n\\n\\n\",\n          \"URL: http://diveintomark.org/archives/2002/10/07.html#my_good_easy\\n\\nDate: 2002-10-07T17:59:05-05:00\\n\\n\\n\\n_Joe Gregorio_: My next pet project[1]. &#8220;Trying to re-create the \\\"Good \\n\\nEasy[2]\\\" on a Windows machine.&#8221; I have also made half-hearted attempts in \\n\\nthis direction, as I am forced to use Windows during the day. I say \\n\\nhalf-hearted because I'm still application-centric, and I don't go as far with \\n\\nkeyboard shortcuts as I could. But I don't use the desktop at all (never have, \\n\\non any system), and I don't use ctrl alt keyboard shortcuts because I \\n\\npersonally find them awkward (YMMV). If you must use Windows, the first step \\n\\ntowards a productive system is managing your Start menu. \\n\\n\\n\\nI use the main level of the Start menu with numbered shortcuts to my most \\n\\ncommon programs. \\\"0 Control Panel[3]\\\", \\\"1 Mozilla[4]\\\", \\\"2 Emacs[5]\\\", \\\"3 DOS \\n\\nhome\\\", \\\"4 DOS work\\\", \\\"5 DOS incoming\\\" (each of which gives me a command line, \\n\\nbut in different directories), \\\"7 Python[6]\\\", \\\"9 IE\\\". Also \\\"# Explorer home\\\", \\n\\n\\\"$ Explorer work\\\", \\\"% Explorer incoming\\\", which open Explorer windows in \\n\\nvarious useful directories (the same directories as the DOS shortcuts, only \\n\\nwith the shift key held down, and yes, I intentionally set it up so that $ went \\n\\nto my work folder). Less-used programs are taken out of their useless submenus \\n\\n(as installed) and moved directly into the Programs submenu and given unique \\n\\nfirst letters as needed. \\\"Ad-aware[7]\\\", \\\"Excel[8]\\\", \\\"IM\\\", \\\"Netscape 4[9]\\\", \\n\\n\\\"Paint Shop Pro\\\", \\\"Query Tool (ODBC)[10]\\\", \\\"VMWare[11]\\\", \\\"Word[12]\\\". All other \\n\\nsubmenus except Startup are removed from the Programs menu. (Yes, delete \\n\\n\\\"Accessories\\\". Do you honestly ever use it? If so, it's probably a sign of a \\n\\nlarger productivity problem.) Things which never need to be run manually (like \\n\\nWinZip and Quicktime) are removed from the Programs menu. Maintaining a clean \\n\\nPrograms menu is an ongoing struggle, but well worth it. \\n\\n\\n\\nOn most modern keyboards, there is a key next to your left alt key that opens \\n\\nthe start menu, which you can press with your left thumb without taking your \\n\\nfingers off the home keys. Otherwise ctrl esc always works. Menu 4 gives me a \\n\\nnew command prompt in my work directory. Menu P N runs Netscape 4 (for \\n\\ncompatibility testing in my day job, ugh). Mozilla and Emacs are almost always \\n\\nopen, but I quit lesser-used applications as soon as I'm done using them \\n\\n(mostly because my laptop doesn't have a lot of memory). \\n\\n\\n\\nI install Cygwin[13] so that the command line is actually useful. Cygwin is a \\n\\ncollection of Windows ports of all your favorite UNIX utilities, including mv, \\n\\ncp, scp, ssh, man, tar, less, grep, patch, ncftp, cvs, and many others. And \\n\\nbash, which I don't use because I dislike how it handles Windows pathnames. I \\n\\nalso set the properties of my command line shortcuts to set the window size to \\n\\n120 x 50 (almost full screen at 1024 x 768), and screen buffer size to 120 x \\n\\n3000. Set window position at 0 x 0, and don't let the system position the \\n\\nwindow. \\n\\n\\n\\nIn Mozilla, I set my home page to \\\"about:blank\\\", set Internet Search to search \\n\\nwith Google, use Tabbed Browsing, open tabs instead of windows in all possible \\n\\ncases, always show the tab bar, and load links in the background (essential for \\n\\nweblog surfing, you can ctrl click links to open them in new tabs in the \\n\\nbackground). Under Scripts & Plugins, I do not allow scripts to open \\n\\nunrequested windows. I turn off the sidebar, turn on the Site Navigation Bar, \\n\\ndelete all pre-installed bookmarks, and create two bookmarks: one which takes \\n\\nme to my webmail, and another which takes me to my internal site search[14], \\n\\nfrom which I can find all other bookmarks I need. \\n\\n\\n\\nIn Internet Explorer, I set my home page to the page to edit my weblog, since \\n\\nthat's the only thing I do in Internet Explorer. alt tab back and forth between \\n\\nMozilla and IE is easier than ctrl pgup/pgdown between tabs within Mozilla, \\n\\nsince TEXTAREAs in Mozilla lose focus when you switch tabs, making copying and \\n\\npasting weblog entries virtually impossible. \\n\\n\\n\\nI use Emacs locally and vi remotely, because the default behavior of Emacs is \\n\\nso heinous as to render it unusable. (For instance, editing a CGI script named \\n\\nfoo.cgi on a web server with Emacs would generate a foo.cgi~ backup file, which \\n\\nis world-readable and is sent as plain text to any browser that asks. Try this \\n\\nsometime on your favorite web site.) Among other things, my .emacs file (which \\n\\nis actually called _emacs on Windows) instructs Emacs to store all backup files \\n\\nin a single directory (d:\\\\backup); to treat all XML files as DocBook, all CGI \\n\\nscripts as Python, and all SQL scripts as PL/SQL; to use Cygwin's bash shell \\n\\nfor M-x-shell; to use a single maximized frame with no menubar, titled as the \\n\\nname of the current file; to show column numbers; to accept \\\"y\\\" and \\\"n\\\" for \\n\\nyes/no questions; not to blink; not to beep; and to close the current file when \\n\\nI press M-w. I use some weird registry hacks and a hacked notepad.exe to get \\n\\nall text files to open in Emacs. (I got this idea from Ultraedit[15].) My \\n\\n_emacs file is my second most backed-up possession. \\n\\n\\n\\nI don't use Windows' useless directory structure for user home directories. On \\n\\nmy D drive I have d:\\\\home (contains directories for my books and other personal \\n\\nprojects, each under CVS control&#8212;also set as my home directory using the \\n\\nHOME environment variable), d:\\\\work (contains directories for each work \\n\\nproject, also under CVS), d:\\\\incoming (set as default download directory for \\n\\nall programs that download things), and d:\\\\backup (used by Emacs, and for \\n\\ntemporary storage, for instance for storing originals when checking out newly \\n\\ncreated CVS projects). I don't know or care what's where on my C drive. \\n\\n\\n\\nI have tried many, many address books, and still store all my contacts, email \\n\\naddresses, snail mail addresses, phone numbers, and other vital personal \\n\\ninformation in a text file called phone, stored in d:\\\\home\\\\phone. It is not in \\n\\nany particular format, other than being plain text and usually including blank \\n\\nlines between entries. I categorize people with simple keywords in parentheses \\n\\nafter their name, and use M-x-occur in Emacs to search by keyword. This file is \\n\\nmy single most backed-up possession. \\n\\n\\n\\nOther essential free Windows utilities I use (in no particular order): TweakUI\\n\\n[16], Cygwin[17], Guidescope[18], ZoneAlarm[19].\\n\\n\\n\\n\\n\\n\\n\\n[1]  http://bitworking.org/Oct2002.html#X631695997519494480\\n\\n[2]  http://www.winterspeak.com/columns/082001.html\\n\\n[3]  http://www.annoyances.org/exec/show/article02-013\\n\\n[4]  http://www.mozilla.org/\\n\\n[5]  http://www.gnu.org/software/emacs/windows/ntemacs.html\\n\\n[6]  http://www.activestate.com/Products/ActivePython/\\n\\n[7]  http://www.lavasoftusa.com/\\n\\n[8]  http://www.openoffice.org/\\n\\n[9]  http://sillydog.org/narchive/\\n\\n[10] http://gpoulose.home.att.net/\\n\\n[11] http://www.vmware.com/\\n\\n[12] http://www.openoffice.org/\\n\\n[13] http://www.cygwin.com/\\n\\n[14] http://diveintomark.org/mt/mt-search.cgi\\n\\n[15] http://www.ultraedit.com/downloads/index.html#notepad\\n\\n     Replacing Notepad with Ultraedit-32\\n\\n[16] http://www.microsoft.com/ntworkstation/downloads/PowerToys/Networking/NTTweakUI.asp\\n\\n[17] http://www.cygwin.com/\\n\\n[18] http://www.guidescope.com/\\n\\n[19] http://download.com.com/3000-2092-10039884.html?part=zonealarm&subj=dlpage\\n\\n\\n\\n\\n\",\n          \"Apologies all.  I have comitted a cardinal sin by not specifying that this\\n\\nwas for a windows machine.\\n\\n\\n\\n\\n\\n----- Original Message -----\\n\\nFrom: \\\"Kenn Humborg\\\" <kenn@bluetree.ie>\\n\\nTo: \\\"David Crozier\\\" <davidcrozier@hotmail.com>\\n\\nCc: <ilug@linux.ie>\\n\\nSent: Friday, August 16, 2002 1:51 PM\\n\\nSubject: RE: [ILUG] Autorun CDs\\n\\n\\n\\n\\n\\n> > Cheers All for your words of wisdom.\\n\\n> >\\n\\n> > I came across this which has worked a treat:-\\n\\n> >\\n\\n> > http://www.avdf.com/mar97/art_autorun.html\\n\\n>\\n\\n> (This is all Windows-related autorun stuff).\\n\\n>\\n\\n> So why did you waste the time of those who looked\\n\\n> up Linux-related info for you?  If you said that it\\n\\n> was for Windows, you'd probably have gotten both\\n\\n> more relevant answers and flames for asking this on\\n\\n> a _Linux_ mailing list.\\n\\n>\\n\\n> Sheesh...\\n\\n>\\n\\n> Later,\\n\\n> Kenn\\n\\n>\\n\\n\\n\\n-- \\n\\nIrish Linux Users' Group: ilug@linux.ie\\n\\nhttp://www.linux.ie/mailman/listinfo/ilug for (un)subscription information.\\n\\nList maintainer: listmaster@linux.ie\\n\\n\\n\"\n        ],\n        \"semantic_type\": \"\",\n        \"description\": \"\"\n      }\n    },\n    {\n      \"column\": \"category\",\n      \"properties\": {\n        \"dtype\": \"category\",\n        \"num_unique_values\": 2,\n        \"samples\": [\n          \"spam\",\n          \"not-spam\"\n        ],\n        \"semantic_type\": \"\",\n        \"description\": \"\"\n      }\n    },\n    {\n      \"column\": \"text_cleaned\",\n      \"properties\": {\n        \"dtype\": \"string\",\n        \"num_unique_values\": 3608,\n        \"samples\": [\n          \"see me naked Click Here\\n\",\n          \"Do You Want To Teach and Grow Rich?\\n\\n\\n\\n\\n\\n\\n\\n\\n\\n\\n\\nIf you are a motivated and qualified communicator, I will personally train you to do 3  20 minutes presentations per day to qualify prospects that I can provide to you.  We will demonstrate to you that you can make $400 a day part time using this system.  Or, if you have 20 hours per week, as in my case, you can make in excess of $10,000 per week, as I am currently generating (verifiable, by the way).  \\n\\n\\n\\nPlus I will introduce you to my mentor who makes well in excess of $1,000,000 annually.\\n\\n\\n\\nMany are called, few are chosen.  This opportunity will be limited to one qualified individual per state.  Make the call and call the 24 hour pre-recorded message number below.  We will take as much or as little time as you need to see if this program is right for you.  \\n\\n\\n\\n                          *** 801-397-9010 *** \\n\\n\\n\\nPlease do not make this call unless you are genuinely money motivated and qualified.  I need people who already have people skills in place and have either made large amounts of money in the past or are ready to generate large amounts of money in the future.  Looking forward to your call.    \\n\\n\\n\\n                            *** 801-397-9010 *** \\n\\n\\n\\n\\n\\n\\n\\n\\n\\n\\n\\n\\n\\n\\n\\n\\n\\n\\n\\n\\n\\n\\n\\n\\n\\n\\n\\n\\n\\n\\n\\n\\n\\n_______________________________________________________________ \\n\\n*To be taken out of this database: \\n\\n  secco44@poetic.com  \\n\\n\\n\\n\\n\\n\\n\\n\\n\\n\\n\\n9059Dmel0-270bmbl15\\n\\n5677ZUad6-196gUSL4757Wrmh7-794oPGX9206MkEq3-551QUHl47\\n\\n\\n\"\n        ],\n        \"semantic_type\": \"\",\n        \"description\": \"\"\n      }\n    },\n    {\n      \"column\": \"label\",\n      \"properties\": {\n        \"dtype\": \"number\",\n        \"std\": 0,\n        \"min\": 0,\n        \"max\": 1,\n        \"num_unique_values\": 2,\n        \"samples\": [\n          1,\n          0\n        ],\n        \"semantic_type\": \"\",\n        \"description\": \"\"\n      }\n    }\n  ]\n}"
            }
          },
          "metadata": {},
          "execution_count": 15
        }
      ]
    },
    {
      "cell_type": "code",
      "source": [],
      "metadata": {
        "id": "rtnQUM6aSXR6"
      },
      "execution_count": 15,
      "outputs": []
    },
    {
      "cell_type": "markdown",
      "source": [
        "### Train/Test Split"
      ],
      "metadata": {
        "id": "5ZNeKpd-nn9Q"
      }
    },
    {
      "cell_type": "code",
      "source": [
        "from sklearn.model_selection import train_test_split"
      ],
      "metadata": {
        "id": "_jkZmwCDs9t9"
      },
      "execution_count": 16,
      "outputs": []
    },
    {
      "cell_type": "code",
      "source": [
        "df_train,df_test = train_test_split(df,test_size=test_size)"
      ],
      "metadata": {
        "id": "uKluSPhCfOj6"
      },
      "execution_count": 17,
      "outputs": []
    },
    {
      "cell_type": "code",
      "source": [],
      "metadata": {
        "id": "mgJCB840wp0B"
      },
      "execution_count": 17,
      "outputs": []
    },
    {
      "cell_type": "markdown",
      "source": [
        "### Convert to Huggingface Dataset"
      ],
      "metadata": {
        "id": "L1JyZmufFzl1"
      }
    },
    {
      "cell_type": "code",
      "source": [
        "from datasets import Dataset"
      ],
      "metadata": {
        "id": "WXtRtb-6tG2Y"
      },
      "execution_count": 18,
      "outputs": []
    },
    {
      "cell_type": "code",
      "source": [
        "train_dataset = Dataset.from_pandas(df_train)\n",
        "test_dataset = Dataset.from_pandas(df_test)"
      ],
      "metadata": {
        "id": "tG9-ZMjTd7p0"
      },
      "execution_count": 19,
      "outputs": []
    },
    {
      "cell_type": "code",
      "source": [],
      "metadata": {
        "id": "wvxREpO3cQaN"
      },
      "execution_count": 19,
      "outputs": []
    },
    {
      "cell_type": "markdown",
      "source": [
        "### Tokenizer"
      ],
      "metadata": {
        "id": "zyEUYtjVF6Pz"
      }
    },
    {
      "cell_type": "code",
      "source": [
        "from transformers import AutoTokenizer"
      ],
      "metadata": {
        "id": "E31UUF53svVw"
      },
      "execution_count": 20,
      "outputs": []
    },
    {
      "cell_type": "code",
      "source": [
        "tokenizer = AutoTokenizer.from_pretrained(model_name)\n",
        "\n",
        "def preprocess_function(examples):\n",
        "    return tokenizer(examples[\"text_cleaned\"], truncation=True)"
      ],
      "metadata": {
        "id": "bBkVtFI6cQXO",
        "outputId": "7cf37565-b8ae-4d26-c9f5-9ddd1f7e6c0a",
        "colab": {
          "base_uri": "https://localhost:8080/"
        }
      },
      "execution_count": 21,
      "outputs": [
        {
          "output_type": "stream",
          "name": "stderr",
          "text": [
            "/usr/local/lib/python3.10/dist-packages/huggingface_hub/utils/_token.py:89: UserWarning: \n",
            "The secret `HF_TOKEN` does not exist in your Colab secrets.\n",
            "To authenticate with the Hugging Face Hub, create a token in your settings tab (https://huggingface.co/settings/tokens), set it as secret in your Google Colab and restart your session.\n",
            "You will be able to reuse this secret in all of your notebooks.\n",
            "Please note that authentication is recommended but still optional to access public models or datasets.\n",
            "  warnings.warn(\n"
          ]
        }
      ]
    },
    {
      "cell_type": "code",
      "source": [
        "tokenized_train = train_dataset.map(preprocess_function, batched=True)"
      ],
      "metadata": {
        "id": "TphCc-8ln8ft",
        "colab": {
          "base_uri": "https://localhost:8080/",
          "height": 49,
          "referenced_widgets": [
            "7505cf7602ed4d67bbe9964982951440",
            "55dc367a845842489612be5da8546af1",
            "cc3c353d5fa445a78580b0f24fe8bdbb",
            "227c99d5d9d345cb8dc26d6aba6811d3",
            "4b46c5b39ca3458392fc4fb739541c0b",
            "4999be3f1879462ba9e547173d667077",
            "7ee6d509dffe4c92b6f344126efa6cb9",
            "c66cbe745d204628a9df21a26f42dbb3",
            "382a85660086462986a74923a9394ea5",
            "e0a25870e247425e94ce16090f4063f4",
            "5b6e7cc54b9f48be9499565406668bfd"
          ]
        },
        "outputId": "b0d7c90a-593c-4d97-d20e-8b6f928672a7"
      },
      "execution_count": 22,
      "outputs": [
        {
          "output_type": "display_data",
          "data": {
            "text/plain": [
              "Map:   0%|          | 0/3036 [00:00<?, ? examples/s]"
            ],
            "application/vnd.jupyter.widget-view+json": {
              "version_major": 2,
              "version_minor": 0,
              "model_id": "7505cf7602ed4d67bbe9964982951440"
            }
          },
          "metadata": {}
        }
      ]
    },
    {
      "cell_type": "code",
      "source": [
        "tokenized_test = test_dataset.map(preprocess_function, batched=True)"
      ],
      "metadata": {
        "id": "1acJjcYVhhOD",
        "colab": {
          "base_uri": "https://localhost:8080/",
          "height": 49,
          "referenced_widgets": [
            "52ca033805874f1ab88874ced4277fa0",
            "824c4673788448c9a5d9ba8828931ec9",
            "1b4f225b4fe2457fb13aa960bb75dde5",
            "84eeb56d212940a2990916b8b325788f",
            "cb50c496435e4e33941ed982479ae7f4",
            "15dbf4892d784a91af19b5d8b8aefc31",
            "c040e2227431431cb1435b004eee5e6f",
            "294b1d52eb874f60afb3003557b94dd4",
            "362910df92c04cf5a5f32c2c4c11977f",
            "2493db568fb14ba6b75a484f2c086730",
            "7e6d3d763e264837a99cc634f53d9bf8"
          ]
        },
        "outputId": "576eb79a-d266-4810-a8d4-c87e9bcd7cf5"
      },
      "execution_count": 23,
      "outputs": [
        {
          "output_type": "display_data",
          "data": {
            "text/plain": [
              "Map:   0%|          | 0/760 [00:00<?, ? examples/s]"
            ],
            "application/vnd.jupyter.widget-view+json": {
              "version_major": 2,
              "version_minor": 0,
              "model_id": "52ca033805874f1ab88874ced4277fa0"
            }
          },
          "metadata": {}
        }
      ]
    },
    {
      "cell_type": "code",
      "source": [],
      "metadata": {
        "id": "o-XKHYRmkUxJ"
      },
      "execution_count": 23,
      "outputs": []
    },
    {
      "cell_type": "markdown",
      "source": [
        "# 3. Initialize Model"
      ],
      "metadata": {
        "id": "Mi0rbO65GA0J"
      }
    },
    {
      "cell_type": "code",
      "source": [
        "from transformers import AutoModelForSequenceClassification"
      ],
      "metadata": {
        "id": "oEDGToKksr88"
      },
      "execution_count": 24,
      "outputs": []
    },
    {
      "cell_type": "code",
      "source": [
        "model = AutoModelForSequenceClassification.from_pretrained(model_name, num_labels=2)"
      ],
      "metadata": {
        "colab": {
          "base_uri": "https://localhost:8080/"
        },
        "id": "PHe02h-2iJXa",
        "outputId": "31141ec3-fc0a-45e1-9c34-26b91c4f6720"
      },
      "execution_count": 25,
      "outputs": [
        {
          "output_type": "stream",
          "name": "stderr",
          "text": [
            "Some weights of DistilBertForSequenceClassification were not initialized from the model checkpoint at distilbert-base-uncased and are newly initialized: ['classifier.bias', 'classifier.weight', 'pre_classifier.bias', 'pre_classifier.weight']\n",
            "You should probably TRAIN this model on a down-stream task to be able to use it for predictions and inference.\n"
          ]
        }
      ]
    },
    {
      "cell_type": "code",
      "source": [],
      "metadata": {
        "id": "_KsJ8sMQiNAP"
      },
      "execution_count": 25,
      "outputs": []
    },
    {
      "cell_type": "markdown",
      "source": [
        "# 4. Train model"
      ],
      "metadata": {
        "id": "u2HA56SgiX7F"
      }
    },
    {
      "cell_type": "code",
      "source": [
        "from transformers import DataCollatorWithPadding\n",
        "from transformers import TrainingArguments, Trainer\n",
        "import evaluate\n",
        "import numpy as np"
      ],
      "metadata": {
        "id": "fCASZfttsyy0"
      },
      "execution_count": 26,
      "outputs": []
    },
    {
      "cell_type": "code",
      "source": [
        "data_collator = DataCollatorWithPadding(tokenizer=tokenizer)"
      ],
      "metadata": {
        "id": "wMyay2U3iJZ7"
      },
      "execution_count": 27,
      "outputs": []
    },
    {
      "cell_type": "code",
      "source": [
        "metric = evaluate.load(\"accuracy\")\n",
        "\n",
        "def compute_metrics(eval_pred):\n",
        "    logits, labels = eval_pred\n",
        "    predictions = np.argmax(logits, axis=-1)\n",
        "    return metric.compute(predictions=predictions, references=labels)"
      ],
      "metadata": {
        "id": "TSOJ9Z_4YrMc"
      },
      "execution_count": 28,
      "outputs": []
    },
    {
      "cell_type": "code",
      "source": [
        "!pip install transformers[torch]"
      ],
      "metadata": {
        "id": "y3SaB8p8BryK",
        "outputId": "5196ec81-8be1-41dd-e1e2-9d232dba1bd9",
        "colab": {
          "base_uri": "https://localhost:8080/"
        }
      },
      "execution_count": 29,
      "outputs": [
        {
          "output_type": "stream",
          "name": "stdout",
          "text": [
            "Requirement already satisfied: transformers[torch] in /usr/local/lib/python3.10/dist-packages (4.38.2)\n",
            "Requirement already satisfied: filelock in /usr/local/lib/python3.10/dist-packages (from transformers[torch]) (3.13.4)\n",
            "Requirement already satisfied: huggingface-hub<1.0,>=0.19.3 in /usr/local/lib/python3.10/dist-packages (from transformers[torch]) (0.22.2)\n",
            "Requirement already satisfied: numpy>=1.17 in /usr/local/lib/python3.10/dist-packages (from transformers[torch]) (1.25.2)\n",
            "Requirement already satisfied: packaging>=20.0 in /usr/local/lib/python3.10/dist-packages (from transformers[torch]) (24.0)\n",
            "Requirement already satisfied: pyyaml>=5.1 in /usr/local/lib/python3.10/dist-packages (from transformers[torch]) (6.0.1)\n",
            "Requirement already satisfied: regex!=2019.12.17 in /usr/local/lib/python3.10/dist-packages (from transformers[torch]) (2023.12.25)\n",
            "Requirement already satisfied: requests in /usr/local/lib/python3.10/dist-packages (from transformers[torch]) (2.31.0)\n",
            "Requirement already satisfied: tokenizers<0.19,>=0.14 in /usr/local/lib/python3.10/dist-packages (from transformers[torch]) (0.15.2)\n",
            "Requirement already satisfied: safetensors>=0.4.1 in /usr/local/lib/python3.10/dist-packages (from transformers[torch]) (0.4.3)\n",
            "Requirement already satisfied: tqdm>=4.27 in /usr/local/lib/python3.10/dist-packages (from transformers[torch]) (4.66.2)\n",
            "Requirement already satisfied: torch in /usr/local/lib/python3.10/dist-packages (from transformers[torch]) (2.2.1+cu121)\n",
            "Requirement already satisfied: accelerate>=0.21.0 in /usr/local/lib/python3.10/dist-packages (from transformers[torch]) (0.27.2)\n",
            "Requirement already satisfied: psutil in /usr/local/lib/python3.10/dist-packages (from accelerate>=0.21.0->transformers[torch]) (5.9.5)\n",
            "Requirement already satisfied: fsspec>=2023.5.0 in /usr/local/lib/python3.10/dist-packages (from huggingface-hub<1.0,>=0.19.3->transformers[torch]) (2023.6.0)\n",
            "Requirement already satisfied: typing-extensions>=3.7.4.3 in /usr/local/lib/python3.10/dist-packages (from huggingface-hub<1.0,>=0.19.3->transformers[torch]) (4.11.0)\n",
            "Requirement already satisfied: sympy in /usr/local/lib/python3.10/dist-packages (from torch->transformers[torch]) (1.12)\n",
            "Requirement already satisfied: networkx in /usr/local/lib/python3.10/dist-packages (from torch->transformers[torch]) (3.3)\n",
            "Requirement already satisfied: jinja2 in /usr/local/lib/python3.10/dist-packages (from torch->transformers[torch]) (3.1.3)\n",
            "Requirement already satisfied: nvidia-cuda-nvrtc-cu12==12.1.105 in /usr/local/lib/python3.10/dist-packages (from torch->transformers[torch]) (12.1.105)\n",
            "Requirement already satisfied: nvidia-cuda-runtime-cu12==12.1.105 in /usr/local/lib/python3.10/dist-packages (from torch->transformers[torch]) (12.1.105)\n",
            "Requirement already satisfied: nvidia-cuda-cupti-cu12==12.1.105 in /usr/local/lib/python3.10/dist-packages (from torch->transformers[torch]) (12.1.105)\n",
            "Requirement already satisfied: nvidia-cudnn-cu12==8.9.2.26 in /usr/local/lib/python3.10/dist-packages (from torch->transformers[torch]) (8.9.2.26)\n",
            "Requirement already satisfied: nvidia-cublas-cu12==12.1.3.1 in /usr/local/lib/python3.10/dist-packages (from torch->transformers[torch]) (12.1.3.1)\n",
            "Requirement already satisfied: nvidia-cufft-cu12==11.0.2.54 in /usr/local/lib/python3.10/dist-packages (from torch->transformers[torch]) (11.0.2.54)\n",
            "Requirement already satisfied: nvidia-curand-cu12==10.3.2.106 in /usr/local/lib/python3.10/dist-packages (from torch->transformers[torch]) (10.3.2.106)\n",
            "Requirement already satisfied: nvidia-cusolver-cu12==11.4.5.107 in /usr/local/lib/python3.10/dist-packages (from torch->transformers[torch]) (11.4.5.107)\n",
            "Requirement already satisfied: nvidia-cusparse-cu12==12.1.0.106 in /usr/local/lib/python3.10/dist-packages (from torch->transformers[torch]) (12.1.0.106)\n",
            "Requirement already satisfied: nvidia-nccl-cu12==2.19.3 in /usr/local/lib/python3.10/dist-packages (from torch->transformers[torch]) (2.19.3)\n",
            "Requirement already satisfied: nvidia-nvtx-cu12==12.1.105 in /usr/local/lib/python3.10/dist-packages (from torch->transformers[torch]) (12.1.105)\n",
            "Requirement already satisfied: triton==2.2.0 in /usr/local/lib/python3.10/dist-packages (from torch->transformers[torch]) (2.2.0)\n",
            "Requirement already satisfied: nvidia-nvjitlink-cu12 in /usr/local/lib/python3.10/dist-packages (from nvidia-cusolver-cu12==11.4.5.107->torch->transformers[torch]) (12.4.127)\n",
            "Requirement already satisfied: charset-normalizer<4,>=2 in /usr/local/lib/python3.10/dist-packages (from requests->transformers[torch]) (3.3.2)\n",
            "Requirement already satisfied: idna<4,>=2.5 in /usr/local/lib/python3.10/dist-packages (from requests->transformers[torch]) (3.7)\n",
            "Requirement already satisfied: urllib3<3,>=1.21.1 in /usr/local/lib/python3.10/dist-packages (from requests->transformers[torch]) (2.0.7)\n",
            "Requirement already satisfied: certifi>=2017.4.17 in /usr/local/lib/python3.10/dist-packages (from requests->transformers[torch]) (2024.2.2)\n",
            "Requirement already satisfied: MarkupSafe>=2.0 in /usr/local/lib/python3.10/dist-packages (from jinja2->torch->transformers[torch]) (2.1.5)\n",
            "Requirement already satisfied: mpmath>=0.19 in /usr/local/lib/python3.10/dist-packages (from sympy->torch->transformers[torch]) (1.3.0)\n"
          ]
        }
      ]
    },
    {
      "cell_type": "code",
      "source": [
        "!pip install transformers torch torchvision torchaudio\n"
      ],
      "metadata": {
        "id": "XBsBMC-sCyPJ",
        "outputId": "79c8cb0e-3e26-4c50-fc3b-980eaa29c842",
        "colab": {
          "base_uri": "https://localhost:8080/"
        }
      },
      "execution_count": 30,
      "outputs": [
        {
          "output_type": "stream",
          "name": "stdout",
          "text": [
            "Requirement already satisfied: transformers in /usr/local/lib/python3.10/dist-packages (4.38.2)\n",
            "Requirement already satisfied: torch in /usr/local/lib/python3.10/dist-packages (2.2.1+cu121)\n",
            "Requirement already satisfied: torchvision in /usr/local/lib/python3.10/dist-packages (0.17.1+cu121)\n",
            "Requirement already satisfied: torchaudio in /usr/local/lib/python3.10/dist-packages (2.2.1+cu121)\n",
            "Requirement already satisfied: filelock in /usr/local/lib/python3.10/dist-packages (from transformers) (3.13.4)\n",
            "Requirement already satisfied: huggingface-hub<1.0,>=0.19.3 in /usr/local/lib/python3.10/dist-packages (from transformers) (0.22.2)\n",
            "Requirement already satisfied: numpy>=1.17 in /usr/local/lib/python3.10/dist-packages (from transformers) (1.25.2)\n",
            "Requirement already satisfied: packaging>=20.0 in /usr/local/lib/python3.10/dist-packages (from transformers) (24.0)\n",
            "Requirement already satisfied: pyyaml>=5.1 in /usr/local/lib/python3.10/dist-packages (from transformers) (6.0.1)\n",
            "Requirement already satisfied: regex!=2019.12.17 in /usr/local/lib/python3.10/dist-packages (from transformers) (2023.12.25)\n",
            "Requirement already satisfied: requests in /usr/local/lib/python3.10/dist-packages (from transformers) (2.31.0)\n",
            "Requirement already satisfied: tokenizers<0.19,>=0.14 in /usr/local/lib/python3.10/dist-packages (from transformers) (0.15.2)\n",
            "Requirement already satisfied: safetensors>=0.4.1 in /usr/local/lib/python3.10/dist-packages (from transformers) (0.4.3)\n",
            "Requirement already satisfied: tqdm>=4.27 in /usr/local/lib/python3.10/dist-packages (from transformers) (4.66.2)\n",
            "Requirement already satisfied: typing-extensions>=4.8.0 in /usr/local/lib/python3.10/dist-packages (from torch) (4.11.0)\n",
            "Requirement already satisfied: sympy in /usr/local/lib/python3.10/dist-packages (from torch) (1.12)\n",
            "Requirement already satisfied: networkx in /usr/local/lib/python3.10/dist-packages (from torch) (3.3)\n",
            "Requirement already satisfied: jinja2 in /usr/local/lib/python3.10/dist-packages (from torch) (3.1.3)\n",
            "Requirement already satisfied: fsspec in /usr/local/lib/python3.10/dist-packages (from torch) (2023.6.0)\n",
            "Requirement already satisfied: nvidia-cuda-nvrtc-cu12==12.1.105 in /usr/local/lib/python3.10/dist-packages (from torch) (12.1.105)\n",
            "Requirement already satisfied: nvidia-cuda-runtime-cu12==12.1.105 in /usr/local/lib/python3.10/dist-packages (from torch) (12.1.105)\n",
            "Requirement already satisfied: nvidia-cuda-cupti-cu12==12.1.105 in /usr/local/lib/python3.10/dist-packages (from torch) (12.1.105)\n",
            "Requirement already satisfied: nvidia-cudnn-cu12==8.9.2.26 in /usr/local/lib/python3.10/dist-packages (from torch) (8.9.2.26)\n",
            "Requirement already satisfied: nvidia-cublas-cu12==12.1.3.1 in /usr/local/lib/python3.10/dist-packages (from torch) (12.1.3.1)\n",
            "Requirement already satisfied: nvidia-cufft-cu12==11.0.2.54 in /usr/local/lib/python3.10/dist-packages (from torch) (11.0.2.54)\n",
            "Requirement already satisfied: nvidia-curand-cu12==10.3.2.106 in /usr/local/lib/python3.10/dist-packages (from torch) (10.3.2.106)\n",
            "Requirement already satisfied: nvidia-cusolver-cu12==11.4.5.107 in /usr/local/lib/python3.10/dist-packages (from torch) (11.4.5.107)\n",
            "Requirement already satisfied: nvidia-cusparse-cu12==12.1.0.106 in /usr/local/lib/python3.10/dist-packages (from torch) (12.1.0.106)\n",
            "Requirement already satisfied: nvidia-nccl-cu12==2.19.3 in /usr/local/lib/python3.10/dist-packages (from torch) (2.19.3)\n",
            "Requirement already satisfied: nvidia-nvtx-cu12==12.1.105 in /usr/local/lib/python3.10/dist-packages (from torch) (12.1.105)\n",
            "Requirement already satisfied: triton==2.2.0 in /usr/local/lib/python3.10/dist-packages (from torch) (2.2.0)\n",
            "Requirement already satisfied: nvidia-nvjitlink-cu12 in /usr/local/lib/python3.10/dist-packages (from nvidia-cusolver-cu12==11.4.5.107->torch) (12.4.127)\n",
            "Requirement already satisfied: pillow!=8.3.*,>=5.3.0 in /usr/local/lib/python3.10/dist-packages (from torchvision) (9.4.0)\n",
            "Requirement already satisfied: MarkupSafe>=2.0 in /usr/local/lib/python3.10/dist-packages (from jinja2->torch) (2.1.5)\n",
            "Requirement already satisfied: charset-normalizer<4,>=2 in /usr/local/lib/python3.10/dist-packages (from requests->transformers) (3.3.2)\n",
            "Requirement already satisfied: idna<4,>=2.5 in /usr/local/lib/python3.10/dist-packages (from requests->transformers) (3.7)\n",
            "Requirement already satisfied: urllib3<3,>=1.21.1 in /usr/local/lib/python3.10/dist-packages (from requests->transformers) (2.0.7)\n",
            "Requirement already satisfied: certifi>=2017.4.17 in /usr/local/lib/python3.10/dist-packages (from requests->transformers) (2024.2.2)\n",
            "Requirement already satisfied: mpmath>=0.19 in /usr/local/lib/python3.10/dist-packages (from sympy->torch) (1.3.0)\n"
          ]
        }
      ]
    },
    {
      "cell_type": "code",
      "source": [
        "!pip install transformers\n",
        "!pip install accelerate==0.27.2"
      ],
      "metadata": {
        "id": "NQZNzDKuG4lP",
        "outputId": "6d2b7548-6f98-4d9f-94f2-ad61321fcf86",
        "colab": {
          "base_uri": "https://localhost:8080/"
        }
      },
      "execution_count": 31,
      "outputs": [
        {
          "output_type": "stream",
          "name": "stdout",
          "text": [
            "Requirement already satisfied: transformers in /usr/local/lib/python3.10/dist-packages (4.38.2)\n",
            "Requirement already satisfied: filelock in /usr/local/lib/python3.10/dist-packages (from transformers) (3.13.4)\n",
            "Requirement already satisfied: huggingface-hub<1.0,>=0.19.3 in /usr/local/lib/python3.10/dist-packages (from transformers) (0.22.2)\n",
            "Requirement already satisfied: numpy>=1.17 in /usr/local/lib/python3.10/dist-packages (from transformers) (1.25.2)\n",
            "Requirement already satisfied: packaging>=20.0 in /usr/local/lib/python3.10/dist-packages (from transformers) (24.0)\n",
            "Requirement already satisfied: pyyaml>=5.1 in /usr/local/lib/python3.10/dist-packages (from transformers) (6.0.1)\n",
            "Requirement already satisfied: regex!=2019.12.17 in /usr/local/lib/python3.10/dist-packages (from transformers) (2023.12.25)\n",
            "Requirement already satisfied: requests in /usr/local/lib/python3.10/dist-packages (from transformers) (2.31.0)\n",
            "Requirement already satisfied: tokenizers<0.19,>=0.14 in /usr/local/lib/python3.10/dist-packages (from transformers) (0.15.2)\n",
            "Requirement already satisfied: safetensors>=0.4.1 in /usr/local/lib/python3.10/dist-packages (from transformers) (0.4.3)\n",
            "Requirement already satisfied: tqdm>=4.27 in /usr/local/lib/python3.10/dist-packages (from transformers) (4.66.2)\n",
            "Requirement already satisfied: fsspec>=2023.5.0 in /usr/local/lib/python3.10/dist-packages (from huggingface-hub<1.0,>=0.19.3->transformers) (2023.6.0)\n",
            "Requirement already satisfied: typing-extensions>=3.7.4.3 in /usr/local/lib/python3.10/dist-packages (from huggingface-hub<1.0,>=0.19.3->transformers) (4.11.0)\n",
            "Requirement already satisfied: charset-normalizer<4,>=2 in /usr/local/lib/python3.10/dist-packages (from requests->transformers) (3.3.2)\n",
            "Requirement already satisfied: idna<4,>=2.5 in /usr/local/lib/python3.10/dist-packages (from requests->transformers) (3.7)\n",
            "Requirement already satisfied: urllib3<3,>=1.21.1 in /usr/local/lib/python3.10/dist-packages (from requests->transformers) (2.0.7)\n",
            "Requirement already satisfied: certifi>=2017.4.17 in /usr/local/lib/python3.10/dist-packages (from requests->transformers) (2024.2.2)\n",
            "Requirement already satisfied: accelerate==0.27.2 in /usr/local/lib/python3.10/dist-packages (0.27.2)\n",
            "Requirement already satisfied: numpy>=1.17 in /usr/local/lib/python3.10/dist-packages (from accelerate==0.27.2) (1.25.2)\n",
            "Requirement already satisfied: packaging>=20.0 in /usr/local/lib/python3.10/dist-packages (from accelerate==0.27.2) (24.0)\n",
            "Requirement already satisfied: psutil in /usr/local/lib/python3.10/dist-packages (from accelerate==0.27.2) (5.9.5)\n",
            "Requirement already satisfied: pyyaml in /usr/local/lib/python3.10/dist-packages (from accelerate==0.27.2) (6.0.1)\n",
            "Requirement already satisfied: torch>=1.10.0 in /usr/local/lib/python3.10/dist-packages (from accelerate==0.27.2) (2.2.1+cu121)\n",
            "Requirement already satisfied: huggingface-hub in /usr/local/lib/python3.10/dist-packages (from accelerate==0.27.2) (0.22.2)\n",
            "Requirement already satisfied: safetensors>=0.3.1 in /usr/local/lib/python3.10/dist-packages (from accelerate==0.27.2) (0.4.3)\n",
            "Requirement already satisfied: filelock in /usr/local/lib/python3.10/dist-packages (from torch>=1.10.0->accelerate==0.27.2) (3.13.4)\n",
            "Requirement already satisfied: typing-extensions>=4.8.0 in /usr/local/lib/python3.10/dist-packages (from torch>=1.10.0->accelerate==0.27.2) (4.11.0)\n",
            "Requirement already satisfied: sympy in /usr/local/lib/python3.10/dist-packages (from torch>=1.10.0->accelerate==0.27.2) (1.12)\n",
            "Requirement already satisfied: networkx in /usr/local/lib/python3.10/dist-packages (from torch>=1.10.0->accelerate==0.27.2) (3.3)\n",
            "Requirement already satisfied: jinja2 in /usr/local/lib/python3.10/dist-packages (from torch>=1.10.0->accelerate==0.27.2) (3.1.3)\n",
            "Requirement already satisfied: fsspec in /usr/local/lib/python3.10/dist-packages (from torch>=1.10.0->accelerate==0.27.2) (2023.6.0)\n",
            "Requirement already satisfied: nvidia-cuda-nvrtc-cu12==12.1.105 in /usr/local/lib/python3.10/dist-packages (from torch>=1.10.0->accelerate==0.27.2) (12.1.105)\n",
            "Requirement already satisfied: nvidia-cuda-runtime-cu12==12.1.105 in /usr/local/lib/python3.10/dist-packages (from torch>=1.10.0->accelerate==0.27.2) (12.1.105)\n",
            "Requirement already satisfied: nvidia-cuda-cupti-cu12==12.1.105 in /usr/local/lib/python3.10/dist-packages (from torch>=1.10.0->accelerate==0.27.2) (12.1.105)\n",
            "Requirement already satisfied: nvidia-cudnn-cu12==8.9.2.26 in /usr/local/lib/python3.10/dist-packages (from torch>=1.10.0->accelerate==0.27.2) (8.9.2.26)\n",
            "Requirement already satisfied: nvidia-cublas-cu12==12.1.3.1 in /usr/local/lib/python3.10/dist-packages (from torch>=1.10.0->accelerate==0.27.2) (12.1.3.1)\n",
            "Requirement already satisfied: nvidia-cufft-cu12==11.0.2.54 in /usr/local/lib/python3.10/dist-packages (from torch>=1.10.0->accelerate==0.27.2) (11.0.2.54)\n",
            "Requirement already satisfied: nvidia-curand-cu12==10.3.2.106 in /usr/local/lib/python3.10/dist-packages (from torch>=1.10.0->accelerate==0.27.2) (10.3.2.106)\n",
            "Requirement already satisfied: nvidia-cusolver-cu12==11.4.5.107 in /usr/local/lib/python3.10/dist-packages (from torch>=1.10.0->accelerate==0.27.2) (11.4.5.107)\n",
            "Requirement already satisfied: nvidia-cusparse-cu12==12.1.0.106 in /usr/local/lib/python3.10/dist-packages (from torch>=1.10.0->accelerate==0.27.2) (12.1.0.106)\n",
            "Requirement already satisfied: nvidia-nccl-cu12==2.19.3 in /usr/local/lib/python3.10/dist-packages (from torch>=1.10.0->accelerate==0.27.2) (2.19.3)\n",
            "Requirement already satisfied: nvidia-nvtx-cu12==12.1.105 in /usr/local/lib/python3.10/dist-packages (from torch>=1.10.0->accelerate==0.27.2) (12.1.105)\n",
            "Requirement already satisfied: triton==2.2.0 in /usr/local/lib/python3.10/dist-packages (from torch>=1.10.0->accelerate==0.27.2) (2.2.0)\n",
            "Requirement already satisfied: nvidia-nvjitlink-cu12 in /usr/local/lib/python3.10/dist-packages (from nvidia-cusolver-cu12==11.4.5.107->torch>=1.10.0->accelerate==0.27.2) (12.4.127)\n",
            "Requirement already satisfied: requests in /usr/local/lib/python3.10/dist-packages (from huggingface-hub->accelerate==0.27.2) (2.31.0)\n",
            "Requirement already satisfied: tqdm>=4.42.1 in /usr/local/lib/python3.10/dist-packages (from huggingface-hub->accelerate==0.27.2) (4.66.2)\n",
            "Requirement already satisfied: MarkupSafe>=2.0 in /usr/local/lib/python3.10/dist-packages (from jinja2->torch>=1.10.0->accelerate==0.27.2) (2.1.5)\n",
            "Requirement already satisfied: charset-normalizer<4,>=2 in /usr/local/lib/python3.10/dist-packages (from requests->huggingface-hub->accelerate==0.27.2) (3.3.2)\n",
            "Requirement already satisfied: idna<4,>=2.5 in /usr/local/lib/python3.10/dist-packages (from requests->huggingface-hub->accelerate==0.27.2) (3.7)\n",
            "Requirement already satisfied: urllib3<3,>=1.21.1 in /usr/local/lib/python3.10/dist-packages (from requests->huggingface-hub->accelerate==0.27.2) (2.0.7)\n",
            "Requirement already satisfied: certifi>=2017.4.17 in /usr/local/lib/python3.10/dist-packages (from requests->huggingface-hub->accelerate==0.27.2) (2024.2.2)\n",
            "Requirement already satisfied: mpmath>=0.19 in /usr/local/lib/python3.10/dist-packages (from sympy->torch>=1.10.0->accelerate==0.27.2) (1.3.0)\n"
          ]
        }
      ]
    },
    {
      "cell_type": "code",
      "source": [
        "import accelerate"
      ],
      "metadata": {
        "id": "tkabQUsnIxxg"
      },
      "execution_count": 32,
      "outputs": []
    },
    {
      "cell_type": "code",
      "source": [
        "from transformers import TrainingArguments, Trainer\n"
      ],
      "metadata": {
        "id": "gDue9C1yHamU"
      },
      "execution_count": 33,
      "outputs": []
    },
    {
      "cell_type": "code",
      "source": [],
      "metadata": {
        "id": "3qbvUkPcHbbC"
      },
      "execution_count": 35,
      "outputs": []
    },
    {
      "cell_type": "code",
      "source": [
        "\n",
        "training_args = TrainingArguments(\n",
        "    output_dir=\"./results\",\n",
        "    learning_rate=2e-4,\n",
        "    per_device_train_batch_size=8,\n",
        "    per_device_eval_batch_size=8,\n",
        "    num_train_epochs=5,\n",
        "    weight_decay=0.01,\n",
        "    evaluation_strategy=\"epoch\",\n",
        "    logging_strategy=\"epoch\"\n",
        ")\n",
        "\n",
        "trainer = Trainer(\n",
        "    model=model,\n",
        "    args=training_args,\n",
        "    train_dataset=tokenized_train,\n",
        "    eval_dataset=tokenized_test,\n",
        "    tokenizer=tokenizer,\n",
        "    data_collator=data_collator,\n",
        "    compute_metrics=compute_metrics\n",
        ")\n"
      ],
      "metadata": {
        "id": "UNs2yNXei6oO"
      },
      "execution_count": 37,
      "outputs": []
    },
    {
      "cell_type": "code",
      "source": [],
      "metadata": {
        "id": "La0bxXdFazag"
      },
      "execution_count": 37,
      "outputs": []
    },
    {
      "cell_type": "code",
      "source": [
        "trainer.train()"
      ],
      "metadata": {
        "colab": {
          "base_uri": "https://localhost:8080/",
          "height": 269
        },
        "id": "emZZhxQiiZsH",
        "outputId": "d6747136-60a8-4738-db02-cc905c8cda2f"
      },
      "execution_count": 38,
      "outputs": [
        {
          "output_type": "display_data",
          "data": {
            "text/plain": [
              "<IPython.core.display.HTML object>"
            ],
            "text/html": [
              "\n",
              "    <div>\n",
              "      \n",
              "      <progress value='1900' max='1900' style='width:300px; height:20px; vertical-align: middle;'></progress>\n",
              "      [1900/1900 13:48, Epoch 5/5]\n",
              "    </div>\n",
              "    <table border=\"1\" class=\"dataframe\">\n",
              "  <thead>\n",
              " <tr style=\"text-align: left;\">\n",
              "      <th>Epoch</th>\n",
              "      <th>Training Loss</th>\n",
              "      <th>Validation Loss</th>\n",
              "      <th>Accuracy</th>\n",
              "    </tr>\n",
              "  </thead>\n",
              "  <tbody>\n",
              "    <tr>\n",
              "      <td>1</td>\n",
              "      <td>0.204800</td>\n",
              "      <td>0.131637</td>\n",
              "      <td>0.956579</td>\n",
              "    </tr>\n",
              "    <tr>\n",
              "      <td>2</td>\n",
              "      <td>0.146100</td>\n",
              "      <td>0.200269</td>\n",
              "      <td>0.957895</td>\n",
              "    </tr>\n",
              "    <tr>\n",
              "      <td>3</td>\n",
              "      <td>0.113300</td>\n",
              "      <td>0.194268</td>\n",
              "      <td>0.944737</td>\n",
              "    </tr>\n",
              "    <tr>\n",
              "      <td>4</td>\n",
              "      <td>0.177700</td>\n",
              "      <td>0.199186</td>\n",
              "      <td>0.953947</td>\n",
              "    </tr>\n",
              "    <tr>\n",
              "      <td>5</td>\n",
              "      <td>0.125900</td>\n",
              "      <td>0.120301</td>\n",
              "      <td>0.977632</td>\n",
              "    </tr>\n",
              "  </tbody>\n",
              "</table><p>"
            ]
          },
          "metadata": {}
        },
        {
          "output_type": "execute_result",
          "data": {
            "text/plain": [
              "TrainOutput(global_step=1900, training_loss=0.15355087681820517, metrics={'train_runtime': 830.7604, 'train_samples_per_second': 18.272, 'train_steps_per_second': 2.287, 'total_flos': 1986333119323440.0, 'train_loss': 0.15355087681820517, 'epoch': 5.0})"
            ]
          },
          "metadata": {},
          "execution_count": 38
        }
      ]
    },
    {
      "cell_type": "code",
      "source": [],
      "metadata": {
        "id": "I4NqQazDiZp4"
      },
      "execution_count": 38,
      "outputs": []
    },
    {
      "cell_type": "code",
      "source": [
        "trainer.save_model('spam_model')"
      ],
      "metadata": {
        "id": "YDFUsLWfiM-P"
      },
      "execution_count": 39,
      "outputs": []
    },
    {
      "cell_type": "code",
      "source": [],
      "metadata": {
        "id": "U8OCXpcdsEPU"
      },
      "execution_count": 39,
      "outputs": []
    },
    {
      "cell_type": "markdown",
      "source": [
        "# 5. Evaluate Model"
      ],
      "metadata": {
        "id": "gqZbK3pior3b"
      }
    },
    {
      "cell_type": "code",
      "source": [
        "from sklearn.metrics import classification_report"
      ],
      "metadata": {
        "id": "H_4rf_8OtA7n"
      },
      "execution_count": 40,
      "outputs": []
    },
    {
      "cell_type": "code",
      "source": [
        "preds = trainer.predict(tokenized_train)\n",
        "preds = np.argmax(preds[:3][0],axis=1)\n",
        "GT = df_train['label'].tolist()\n",
        "print(classification_report(GT,preds))"
      ],
      "metadata": {
        "colab": {
          "base_uri": "https://localhost:8080/",
          "height": 182
        },
        "id": "CLDc2nFAsENk",
        "outputId": "9f9bb843-45d8-4ce7-9827-53f74c4809dc"
      },
      "execution_count": 41,
      "outputs": [
        {
          "output_type": "display_data",
          "data": {
            "text/plain": [
              "<IPython.core.display.HTML object>"
            ],
            "text/html": []
          },
          "metadata": {}
        },
        {
          "output_type": "stream",
          "name": "stdout",
          "text": [
            "              precision    recall  f1-score   support\n",
            "\n",
            "           0       0.99      0.98      0.98      1521\n",
            "           1       0.98      0.99      0.98      1515\n",
            "\n",
            "    accuracy                           0.98      3036\n",
            "   macro avg       0.98      0.98      0.98      3036\n",
            "weighted avg       0.98      0.98      0.98      3036\n",
            "\n"
          ]
        }
      ]
    },
    {
      "cell_type": "code",
      "source": [],
      "metadata": {
        "id": "jXO8wmpNsiM2"
      },
      "execution_count": 41,
      "outputs": []
    },
    {
      "cell_type": "code",
      "source": [
        "preds = trainer.predict(tokenized_test)\n",
        "preds = np.argmax(preds[:3][0],axis=1) #preds[:3][1]\n",
        "GT = df_test['label'].tolist()\n",
        "print(classification_report(GT,preds))"
      ],
      "metadata": {
        "colab": {
          "base_uri": "https://localhost:8080/",
          "height": 182
        },
        "id": "OIMu476_cZGn",
        "outputId": "58f25c67-db91-4348-8dbf-cbcdbe725606"
      },
      "execution_count": 42,
      "outputs": [
        {
          "output_type": "display_data",
          "data": {
            "text/plain": [
              "<IPython.core.display.HTML object>"
            ],
            "text/html": []
          },
          "metadata": {}
        },
        {
          "output_type": "stream",
          "name": "stdout",
          "text": [
            "              precision    recall  f1-score   support\n",
            "\n",
            "           0       0.98      0.98      0.98       379\n",
            "           1       0.98      0.98      0.98       381\n",
            "\n",
            "    accuracy                           0.98       760\n",
            "   macro avg       0.98      0.98      0.98       760\n",
            "weighted avg       0.98      0.98      0.98       760\n",
            "\n"
          ]
        }
      ]
    },
    {
      "cell_type": "code",
      "source": [],
      "metadata": {
        "id": "2KqvQWMIcZEH"
      },
      "execution_count": 42,
      "outputs": []
    },
    {
      "cell_type": "code",
      "source": [],
      "metadata": {
        "id": "BsYwcNzMXftg"
      },
      "execution_count": 42,
      "outputs": []
    },
    {
      "cell_type": "code",
      "source": [],
      "metadata": {
        "id": "uhqP5LYnXMyo"
      },
      "execution_count": 42,
      "outputs": []
    }
  ]
}